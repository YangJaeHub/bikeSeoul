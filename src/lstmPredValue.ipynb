{
 "cells": [
  {
   "cell_type": "code",
   "execution_count": 1,
   "metadata": {},
   "outputs": [],
   "source": [
    "import tensorflow as tf\n",
    "import numpy as np\n",
    "import pandas as pd\n",
    "import matplotlib\n",
    "import io, os, sys, types\n",
    "import matplotlib.pyplot as plt\n",
    "\n",
    "%matplotlib inline"
   ]
  },
  {
   "cell_type": "code",
   "execution_count": 2,
   "metadata": {},
   "outputs": [
    {
     "data": {
      "text/plain": [
       "(11116440, 14)"
      ]
     },
     "execution_count": 2,
     "metadata": {},
     "output_type": "execute_result"
    }
   ],
   "source": [
    "train = pd.read_csv(\"bike_demand_addloc_train.csv\", parse_dates=[\"rent_time\"])\n",
    "train.shape"
   ]
  },
  {
   "cell_type": "code",
   "execution_count": 3,
   "metadata": {},
   "outputs": [
    {
     "data": {
      "text/html": [
       "<div>\n",
       "<style scoped>\n",
       "    .dataframe tbody tr th:only-of-type {\n",
       "        vertical-align: middle;\n",
       "    }\n",
       "\n",
       "    .dataframe tbody tr th {\n",
       "        vertical-align: top;\n",
       "    }\n",
       "\n",
       "    .dataframe thead th {\n",
       "        text-align: right;\n",
       "    }\n",
       "</style>\n",
       "<table border=\"1\" class=\"dataframe\">\n",
       "  <thead>\n",
       "    <tr style=\"text-align: right;\">\n",
       "      <th></th>\n",
       "      <th>Unnamed: 0</th>\n",
       "      <th>rent_place_num</th>\n",
       "      <th>rent_time</th>\n",
       "      <th>rent_freq</th>\n",
       "      <th>bef_1</th>\n",
       "      <th>bef_2</th>\n",
       "      <th>bef_3</th>\n",
       "      <th>bef_4</th>\n",
       "      <th>holder</th>\n",
       "      <th>subway_num</th>\n",
       "      <th>altitude</th>\n",
       "      <th>han_dist</th>\n",
       "      <th>park_dist</th>\n",
       "      <th>park_area</th>\n",
       "    </tr>\n",
       "  </thead>\n",
       "  <tbody>\n",
       "    <tr>\n",
       "      <th>0</th>\n",
       "      <td>0</td>\n",
       "      <td>101</td>\n",
       "      <td>2017-06-01 00:00:00</td>\n",
       "      <td>2.0</td>\n",
       "      <td>2.0</td>\n",
       "      <td>2.0</td>\n",
       "      <td>1.0</td>\n",
       "      <td>2.0</td>\n",
       "      <td>5</td>\n",
       "      <td>2</td>\n",
       "      <td>6.011298</td>\n",
       "      <td>0.810084</td>\n",
       "      <td>0.559705</td>\n",
       "      <td>-0.464485</td>\n",
       "    </tr>\n",
       "    <tr>\n",
       "      <th>1</th>\n",
       "      <td>1</td>\n",
       "      <td>101</td>\n",
       "      <td>2017-06-01 01:00:00</td>\n",
       "      <td>0.0</td>\n",
       "      <td>2.0</td>\n",
       "      <td>2.0</td>\n",
       "      <td>2.0</td>\n",
       "      <td>1.0</td>\n",
       "      <td>5</td>\n",
       "      <td>2</td>\n",
       "      <td>6.011298</td>\n",
       "      <td>0.810084</td>\n",
       "      <td>0.559705</td>\n",
       "      <td>-0.464485</td>\n",
       "    </tr>\n",
       "    <tr>\n",
       "      <th>2</th>\n",
       "      <td>2</td>\n",
       "      <td>101</td>\n",
       "      <td>2017-06-01 02:00:00</td>\n",
       "      <td>0.0</td>\n",
       "      <td>0.0</td>\n",
       "      <td>2.0</td>\n",
       "      <td>2.0</td>\n",
       "      <td>2.0</td>\n",
       "      <td>5</td>\n",
       "      <td>2</td>\n",
       "      <td>6.011298</td>\n",
       "      <td>0.810084</td>\n",
       "      <td>0.559705</td>\n",
       "      <td>-0.464485</td>\n",
       "    </tr>\n",
       "  </tbody>\n",
       "</table>\n",
       "</div>"
      ],
      "text/plain": [
       "   Unnamed: 0  rent_place_num           rent_time  rent_freq  bef_1  bef_2  \\\n",
       "0           0             101 2017-06-01 00:00:00        2.0    2.0    2.0   \n",
       "1           1             101 2017-06-01 01:00:00        0.0    2.0    2.0   \n",
       "2           2             101 2017-06-01 02:00:00        0.0    0.0    2.0   \n",
       "\n",
       "   bef_3  bef_4  holder  subway_num  altitude  han_dist  park_dist  park_area  \n",
       "0    1.0    2.0       5           2  6.011298  0.810084   0.559705  -0.464485  \n",
       "1    2.0    1.0       5           2  6.011298  0.810084   0.559705  -0.464485  \n",
       "2    2.0    2.0       5           2  6.011298  0.810084   0.559705  -0.464485  "
      ]
     },
     "execution_count": 3,
     "metadata": {},
     "output_type": "execute_result"
    }
   ],
   "source": [
    "train.head(3)"
   ]
  },
  {
   "cell_type": "code",
   "execution_count": 4,
   "metadata": {},
   "outputs": [
    {
     "data": {
      "text/plain": [
       "(914400, 14)"
      ]
     },
     "execution_count": 4,
     "metadata": {},
     "output_type": "execute_result"
    }
   ],
   "source": [
    "test = pd.read_csv(\"bike_demand_addloc_test.csv\", parse_dates=[\"rent_time\"])\n",
    "test.shape"
   ]
  },
  {
   "cell_type": "code",
   "execution_count": 5,
   "metadata": {},
   "outputs": [
    {
     "data": {
      "text/html": [
       "<div>\n",
       "<style scoped>\n",
       "    .dataframe tbody tr th:only-of-type {\n",
       "        vertical-align: middle;\n",
       "    }\n",
       "\n",
       "    .dataframe tbody tr th {\n",
       "        vertical-align: top;\n",
       "    }\n",
       "\n",
       "    .dataframe thead th {\n",
       "        text-align: right;\n",
       "    }\n",
       "</style>\n",
       "<table border=\"1\" class=\"dataframe\">\n",
       "  <thead>\n",
       "    <tr style=\"text-align: right;\">\n",
       "      <th></th>\n",
       "      <th>Unnamed: 0</th>\n",
       "      <th>rent_place_num</th>\n",
       "      <th>rent_time</th>\n",
       "      <th>rent_freq</th>\n",
       "      <th>bef_1</th>\n",
       "      <th>bef_2</th>\n",
       "      <th>bef_3</th>\n",
       "      <th>bef_4</th>\n",
       "      <th>holder</th>\n",
       "      <th>subway_num</th>\n",
       "      <th>altitude</th>\n",
       "      <th>han_dist</th>\n",
       "      <th>park_dist</th>\n",
       "      <th>park_area</th>\n",
       "    </tr>\n",
       "  </thead>\n",
       "  <tbody>\n",
       "    <tr>\n",
       "      <th>0</th>\n",
       "      <td>0</td>\n",
       "      <td>101</td>\n",
       "      <td>2018-06-01 00:00:00</td>\n",
       "      <td>1.0</td>\n",
       "      <td>2.0</td>\n",
       "      <td>7.0</td>\n",
       "      <td>3.0</td>\n",
       "      <td>1.0</td>\n",
       "      <td>5</td>\n",
       "      <td>2</td>\n",
       "      <td>6.011298</td>\n",
       "      <td>0.810084</td>\n",
       "      <td>0.559705</td>\n",
       "      <td>-0.464485</td>\n",
       "    </tr>\n",
       "    <tr>\n",
       "      <th>1</th>\n",
       "      <td>1</td>\n",
       "      <td>101</td>\n",
       "      <td>2018-06-01 01:00:00</td>\n",
       "      <td>3.0</td>\n",
       "      <td>1.0</td>\n",
       "      <td>2.0</td>\n",
       "      <td>7.0</td>\n",
       "      <td>3.0</td>\n",
       "      <td>5</td>\n",
       "      <td>2</td>\n",
       "      <td>6.011298</td>\n",
       "      <td>0.810084</td>\n",
       "      <td>0.559705</td>\n",
       "      <td>-0.464485</td>\n",
       "    </tr>\n",
       "    <tr>\n",
       "      <th>2</th>\n",
       "      <td>2</td>\n",
       "      <td>101</td>\n",
       "      <td>2018-06-01 02:00:00</td>\n",
       "      <td>2.0</td>\n",
       "      <td>3.0</td>\n",
       "      <td>1.0</td>\n",
       "      <td>2.0</td>\n",
       "      <td>7.0</td>\n",
       "      <td>5</td>\n",
       "      <td>2</td>\n",
       "      <td>6.011298</td>\n",
       "      <td>0.810084</td>\n",
       "      <td>0.559705</td>\n",
       "      <td>-0.464485</td>\n",
       "    </tr>\n",
       "  </tbody>\n",
       "</table>\n",
       "</div>"
      ],
      "text/plain": [
       "   Unnamed: 0  rent_place_num           rent_time  rent_freq  bef_1  bef_2  \\\n",
       "0           0             101 2018-06-01 00:00:00        1.0    2.0    7.0   \n",
       "1           1             101 2018-06-01 01:00:00        3.0    1.0    2.0   \n",
       "2           2             101 2018-06-01 02:00:00        2.0    3.0    1.0   \n",
       "\n",
       "   bef_3  bef_4  holder  subway_num  altitude  han_dist  park_dist  park_area  \n",
       "0    3.0    1.0       5           2  6.011298  0.810084   0.559705  -0.464485  \n",
       "1    7.0    3.0       5           2  6.011298  0.810084   0.559705  -0.464485  \n",
       "2    2.0    7.0       5           2  6.011298  0.810084   0.559705  -0.464485  "
      ]
     },
     "execution_count": 5,
     "metadata": {},
     "output_type": "execute_result"
    }
   ],
   "source": [
    "test.head(3)"
   ]
  },
  {
   "cell_type": "code",
   "execution_count": null,
   "metadata": {},
   "outputs": [],
   "source": [
    "train.info()"
   ]
  },
  {
   "cell_type": "code",
   "execution_count": null,
   "metadata": {},
   "outputs": [],
   "source": [
    "test.info()"
   ]
  },
  {
   "cell_type": "code",
   "execution_count": 6,
   "metadata": {},
   "outputs": [],
   "source": [
    "## 불필요 columns drop\n",
    "def drop_columns(feature,x):\n",
    "    x.drop(feature, axis = 1, inplace=True)"
   ]
  },
  {
   "cell_type": "code",
   "execution_count": 7,
   "metadata": {},
   "outputs": [],
   "source": [
    "drop_columns([\"rent_time\", \"Unnamed: 0\",\"rent_place_num\"],train)\n",
    "drop_columns([\"rent_time\", \"Unnamed: 0\",\"rent_place_num\"],test)"
   ]
  },
  {
   "cell_type": "code",
   "execution_count": 8,
   "metadata": {},
   "outputs": [
    {
     "name": "stdout",
     "output_type": "stream",
     "text": [
      "(11116440, 11)\n",
      "(914400, 11)\n"
     ]
    }
   ],
   "source": [
    "print(train.shape)\n",
    "print(test.shape)"
   ]
  },
  {
   "cell_type": "code",
   "execution_count": 9,
   "metadata": {},
   "outputs": [],
   "source": [
    "## 하이퍼파라미터 튜닝\n",
    "tf.set_random_seed(777)"
   ]
  },
  {
   "cell_type": "code",
   "execution_count": 10,
   "metadata": {},
   "outputs": [],
   "source": [
    "learning_rate= 0.0008\n",
    "total_epoch = 30\n",
    "batch_size = 8760"
   ]
  },
  {
   "cell_type": "code",
   "execution_count": 11,
   "metadata": {},
   "outputs": [],
   "source": [
    "n_input = 11 # Number of features \n",
    "n_step = 4  # Stride \n",
    "n_hidden = 16\n",
    "n_class = 1"
   ]
  },
  {
   "cell_type": "code",
   "execution_count": 12,
   "metadata": {},
   "outputs": [],
   "source": [
    "## Data scaler\n",
    "def MinMaxScaler(data):\n",
    "    # 데이터 모든숫자들을 최소 값만큼 뺀다.\n",
    "    numerator = data - np.min(data, 0)\n",
    "    # 최대값과 최소 값의 차이(A)를 구한다\n",
    "    denominator = np.max(data, 0) - np.min(data, 0)\n",
    "    # 너무 큰 값이 나오지 않도록 나눈다\n",
    "    return numerator / (denominator + 1e-7)"
   ]
  },
  {
   "cell_type": "code",
   "execution_count": 13,
   "metadata": {},
   "outputs": [],
   "source": [
    "#train = MinMaxScaler(train)\n",
    "x_pd = train\n",
    "y_pd = train.loc[:,[\"rent_freq\"]]\n",
    "#test = MinMaxScaler(test)\n",
    "tx_pd = test\n",
    "ty_pd = test.loc[:,[\"rent_freq\"]]"
   ]
  },
  {
   "cell_type": "code",
   "execution_count": 14,
   "metadata": {},
   "outputs": [
    {
     "name": "stderr",
     "output_type": "stream",
     "text": [
      "/usr/local/lib/python3.5/dist-packages/ipykernel_launcher.py:1: FutureWarning: Method .as_matrix will be removed in a future version. Use .values instead.\n",
      "  \"\"\"Entry point for launching an IPython kernel.\n",
      "/usr/local/lib/python3.5/dist-packages/ipykernel_launcher.py:2: FutureWarning: Method .as_matrix will be removed in a future version. Use .values instead.\n",
      "  \n",
      "/usr/local/lib/python3.5/dist-packages/ipykernel_launcher.py:3: FutureWarning: Method .as_matrix will be removed in a future version. Use .values instead.\n",
      "  This is separate from the ipykernel package so we can avoid doing imports until\n",
      "/usr/local/lib/python3.5/dist-packages/ipykernel_launcher.py:4: FutureWarning: Method .as_matrix will be removed in a future version. Use .values instead.\n",
      "  after removing the cwd from sys.path.\n"
     ]
    }
   ],
   "source": [
    "X_train= x_pd.as_matrix()\n",
    "y_train= y_pd.as_matrix().reshape([len(train),n_class])\n",
    "X_test= tx_pd.as_matrix()\n",
    "y_test= ty_pd.as_matrix().reshape([len(test),n_class])"
   ]
  },
  {
   "cell_type": "code",
   "execution_count": 15,
   "metadata": {},
   "outputs": [
    {
     "name": "stdout",
     "output_type": "stream",
     "text": [
      "[[ 2.          2.          2.          1.          2.          5.\n",
      "   2.          6.01129795  0.81008432  0.55970523 -0.4644851 ]\n",
      " [ 0.          2.          2.          2.          1.          5.\n",
      "   2.          6.01129795  0.81008432  0.55970523 -0.4644851 ]\n",
      " [ 0.          0.          2.          2.          2.          5.\n",
      "   2.          6.01129795  0.81008432  0.55970523 -0.4644851 ]\n",
      " [ 1.          0.          0.          2.          2.          5.\n",
      "   2.          6.01129795  0.81008432  0.55970523 -0.4644851 ]] -> [0.]\n"
     ]
    }
   ],
   "source": [
    "## Build train dataset\n",
    "dataX = []\n",
    "dataY = []\n",
    "for i in range(0, len(y_pd)- n_step):\n",
    "    _x = X_train[i: i + n_step]\n",
    "    _y = y_train[i + n_step]\n",
    "    if i is 0:\n",
    "        print(_x, \"->\", _y)\n",
    "    dataX.append(_x)\n",
    "    dataY.append(_y)"
   ]
  },
  {
   "cell_type": "code",
   "execution_count": 16,
   "metadata": {},
   "outputs": [
    {
     "name": "stdout",
     "output_type": "stream",
     "text": [
      "[[ 1.          2.          7.          3.          1.          5.\n",
      "   2.          6.01129795  0.81008432  0.55970523 -0.4644851 ]\n",
      " [ 3.          1.          2.          7.          3.          5.\n",
      "   2.          6.01129795  0.81008432  0.55970523 -0.4644851 ]\n",
      " [ 2.          3.          1.          2.          7.          5.\n",
      "   2.          6.01129795  0.81008432  0.55970523 -0.4644851 ]\n",
      " [ 1.          2.          3.          1.          2.          5.\n",
      "   2.          6.01129795  0.81008432  0.55970523 -0.4644851 ]] -> [0.]\n"
     ]
    }
   ],
   "source": [
    "## Build test data set \n",
    "dataXt = []\n",
    "dataYt = []\n",
    "for i in range(0, len(ty_pd)- n_step):\n",
    "    _xt = X_test[i: i + n_step]\n",
    "    _yt = y_test[i + n_step]\n",
    "    if i is 0:\n",
    "        print(_xt, \"->\", _yt)\n",
    "    dataXt.append(_xt)\n",
    "    dataYt.append(_yt)"
   ]
  },
  {
   "cell_type": "code",
   "execution_count": 17,
   "metadata": {},
   "outputs": [],
   "source": [
    "train_size= int(len(dataY) * 1.0)\n",
    "test_size = int(len(dataYt)* 1.0)\n",
    "\n",
    "trainX, testX =np.array(dataX[0:train_size]), np.array(dataXt[0:test_size])\n",
    "trainY, testY =np.array(dataY[0:train_size]), np.array(dataYt[0:test_size])"
   ]
  },
  {
   "cell_type": "code",
   "execution_count": 18,
   "metadata": {},
   "outputs": [
    {
     "name": "stdout",
     "output_type": "stream",
     "text": [
      "X Tensor(\"Placeholder:0\", shape=(?, 4, 11), dtype=float32)\n",
      "Y Tensor(\"Placeholder_1:0\", shape=(?, 1), dtype=float32)\n"
     ]
    }
   ],
   "source": [
    "X = tf.placeholder(tf.float32, [None,n_step,n_input])\n",
    "print(\"X\", X)\n",
    "Y = tf.placeholder(tf.float32, [None,n_class])\n",
    "print(\"Y\", Y)"
   ]
  },
  {
   "cell_type": "code",
   "execution_count": 19,
   "metadata": {},
   "outputs": [],
   "source": [
    "targets = tf.placeholder(tf.float32,[None,n_class])\n",
    "predictions = tf.placeholder(tf.float32,[None,n_class])"
   ]
  },
  {
   "cell_type": "code",
   "execution_count": 20,
   "metadata": {},
   "outputs": [],
   "source": [
    "## lstm cell 생성\n",
    "def lstm_cell():\n",
    "    # LSTM셀을 생성한다.\n",
    "    # num_units: 각 Cell 출력 크기\n",
    "    # forget_bias: The bias added to forget gates.\n",
    "    # state_is_tuple: True ==> accepted and returned states are 2-tuples of the c_state and m_state.\n",
    "    # state_is_tuple: False ==> they are concatenated along the column axis.\n",
    "    # cell = tf.contrib.rnn.BasicLSTMCell(num_units=hidden_dim, state_is_tuple=True, activation=tf.sigmoid)\n",
    "    # cell = tf.contrib.rnn.BasicLSTMCell(num_units=hidden_dim, state_is_tuple=True, activation=tf.tanh)\n",
    "    cell = tf.contrib.rnn.BasicLSTMCell(num_units=n_hidden, forget_bias=0.8, state_is_tuple=True, activation=tf.tanh)\n",
    "    return cell"
   ]
  },
  {
   "cell_type": "code",
   "execution_count": 21,
   "metadata": {},
   "outputs": [
    {
     "name": "stdout",
     "output_type": "stream",
     "text": [
      "WARNING:tensorflow:From <ipython-input-20-9a581b23a0f5>:10: BasicLSTMCell.__init__ (from tensorflow.python.ops.rnn_cell_impl) is deprecated and will be removed in a future version.\n",
      "Instructions for updating:\n",
      "This class is deprecated, please use tf.nn.rnn_cell.LSTMCell, which supports all the feature this cell currently has. Please replace the existing code with tf.nn.rnn_cell.LSTMCell(name='basic_lstm_cell').\n"
     ]
    }
   ],
   "source": [
    "## 1 cell layer 모델\n",
    "multi_cells = tf.contrib.rnn.MultiRNNCell([lstm_cell() for _ in range(1)], state_is_tuple=True)"
   ]
  },
  {
   "cell_type": "code",
   "execution_count": 22,
   "metadata": {},
   "outputs": [
    {
     "name": "stdout",
     "output_type": "stream",
     "text": [
      "hypothesis:  Tensor(\"rnn/transpose_1:0\", shape=(?, 4, 16), dtype=float32)\n"
     ]
    }
   ],
   "source": [
    "## lstm output\n",
    "hypothesis, _states = tf.nn.dynamic_rnn(multi_cells, X, dtype=tf.float32)\n",
    "print(\"hypothesis: \", hypothesis)"
   ]
  },
  {
   "cell_type": "code",
   "execution_count": 23,
   "metadata": {},
   "outputs": [],
   "source": [
    "Y_pred = tf.contrib.layers.fully_connected(hypothesis[:, -1], n_class, activation_fn=None)"
   ]
  },
  {
   "cell_type": "code",
   "execution_count": 24,
   "metadata": {},
   "outputs": [],
   "source": [
    "loss = tf.reduce_sum(tf.square(Y_pred - Y))\n",
    "optimizer = tf.train.AdamOptimizer(learning_rate)\n",
    "train = optimizer.minimize(loss)"
   ]
  },
  {
   "cell_type": "code",
   "execution_count": null,
   "metadata": {},
   "outputs": [],
   "source": [
    "#is_correct = tf.equal(Y_pred,Y, dtype=tf.float32)\n",
    "#accuracy = tf.reduce_mean(tf.cast(is_correct))"
   ]
  },
  {
   "cell_type": "code",
   "execution_count": 25,
   "metadata": {},
   "outputs": [],
   "source": [
    "rmse = tf.sqrt(tf.reduce_mean(tf.squared_difference(targets, predictions)))"
   ]
  },
  {
   "cell_type": "code",
   "execution_count": 26,
   "metadata": {},
   "outputs": [],
   "source": [
    "def batch_generator(batch_size, n_step, n_input):\n",
    "    \"\"\"    Generator function for creating random batches of training-data.    \"\"\"\n",
    "    # Infinite loop.\n",
    "    while True:\n",
    "        # Allocate a new array for the batch of input-signals.\n",
    "        x_shape=(batch_size, n_step ,n_input)\n",
    "        x_batch=np.zeros(shape=x_shape,dtype=np.float32)\n",
    "        \n",
    "        # Allocate a new array for the batch of output-signals.\n",
    "        y_shape=(batch_size, n_class)\n",
    "        y_batch=np.zeros(shape=y_shape, dtype=np.float32)\n",
    "        #y_batch = y_batch.reshape(batch_size, batch_size, n_class)\n",
    "        # Fill the batch with random sequences of data.\n",
    "        for i in range(batch_size):\n",
    "            # Get a random start-index.\n",
    "            # This points somewhere into the training-data.\n",
    "            idx=np.random.randint(int(len(trainX)) - n_step)\n",
    "            # Copy the sequences of data starting at this index.\n",
    "            x_batch[i] = X_train[idx:idx + n_step]\n",
    "            y_batch[i] = y_train[idx]\n",
    "        yield(x_batch, y_batch)\n"
   ]
  },
  {
   "cell_type": "code",
   "execution_count": 27,
   "metadata": {},
   "outputs": [],
   "source": [
    "generator=batch_generator(batch_size, n_step, n_input)"
   ]
  },
  {
   "cell_type": "code",
   "execution_count": 28,
   "metadata": {},
   "outputs": [],
   "source": [
    "x_batch,y_batch=next(generator)"
   ]
  },
  {
   "cell_type": "code",
   "execution_count": 30,
   "metadata": {
    "scrolled": false
   },
   "outputs": [
    {
     "name": "stdout",
     "output_type": "stream",
     "text": [
      "Epoch: 0002 Avg cost = 3354.68709\n",
      "Epoch: 0003 Avg cost = 952.96181\n",
      "Epoch: 0004 Avg cost = 523.03716\n",
      "Epoch: 0005 Avg cost = 364.30290\n",
      "Epoch: 0006 Avg cost = 317.39198\n",
      "Epoch: 0007 Avg cost = 244.77460\n",
      "Epoch: 0008 Avg cost = 222.56815\n",
      "Epoch: 0009 Avg cost = 163.01105\n",
      "Epoch: 0010 Avg cost = 143.30382\n",
      "Epoch: 0011 Avg cost = 109.44711\n",
      "Epoch: 0012 Avg cost = 91.86357\n",
      "Epoch: 0013 Avg cost = 125.38700\n",
      "Epoch: 0014 Avg cost = 112.92117\n",
      "Epoch: 0015 Avg cost = 88.05644\n",
      "Epoch: 0016 Avg cost = 93.72120\n",
      "Epoch: 0017 Avg cost = 87.92325\n",
      "Epoch: 0018 Avg cost = 102.83737\n",
      "Epoch: 0019 Avg cost = 82.12041\n",
      "Epoch: 0020 Avg cost = 65.47824\n",
      "Epoch: 0021 Avg cost = 55.01481\n",
      "Epoch: 0022 Avg cost = 71.62170\n",
      "Epoch: 0023 Avg cost = 68.79578\n",
      "Epoch: 0024 Avg cost = 60.55826\n",
      "Epoch: 0025 Avg cost = 78.38951\n",
      "Epoch: 0026 Avg cost = 68.98278\n",
      "Epoch: 0027 Avg cost = 51.30022\n",
      "Epoch: 0028 Avg cost = 55.72385\n",
      "Epoch: 0029 Avg cost = 64.68218\n",
      "Epoch: 0030 Avg cost = 44.12585\n",
      "Epoch: 0031 Avg cost = 59.75766\n",
      "rmse:  2.5771255\n"
     ]
    },
    {
     "data": {
      "image/png": "[encoded data removed]",
      "text/plain": [
       "<Figure size 864x432 with 1 Axes>"
      ]
     },
     "metadata": {
      "needs_background": "light"
     },
     "output_type": "display_data"
    }
   ],
   "source": [
    "##모델 학습 및 테스트\n",
    "period = int(X_train.shape[0]/batch_size)\n",
    "with tf.Session() as sess:\n",
    "    init = tf.global_variables_initializer()\n",
    "    sess.run(init)\n",
    "    for epoch in range(1,total_epoch+1):\n",
    "            total_cost = 0\n",
    "            generator=batch_generator(batch_size,n_step,n_input) ##<<2nd batch selecting method\n",
    "            for i in range(period):\n",
    "                batch_xs, batch_ys =next(generator)  ##<<2nd batch selecting method\n",
    "                #batch_xs, batch_ys =next_batch(batch_size)\n",
    "                \n",
    "                _, cost_val = sess.run([train, loss], feed_dict={X: batch_xs, Y: batch_ys})\n",
    "                total_cost += cost_val\n",
    "\n",
    "            print('Epoch:', '%04d' % (epoch + 1),\n",
    "                  'Avg cost =', '{:.5f}'.format(total_cost / period))\n",
    "            \n",
    "            \n",
    "    test_predict = sess.run(Y_pred, feed_dict={X: testX})\n",
    "    np.savetxt('test_predictLocH32S2_lstm.csv', test_predict, delimiter=',', fmt='%d')\n",
    "    \n",
    "    # 테스트용 데이터 기준으로 측정지표 rmse를 산출한다\n",
    "    rmse_val = sess.run(rmse, feed_dict={targets: testY, predictions: test_predict})\n",
    "    print(\"rmse: \", rmse_val)\n",
    "    \n",
    "    plt.figure(figsize=(12,6))\n",
    "    plt.plot(testY, 'r')\n",
    "    plt.plot(test_predict, 'b')\n",
    "    plt.xlabel(\"Time Period\")\n",
    "    plt.ylabel(\"Rent_freq\")\n",
    "    plt.show()"
   ]
  }
 ],
 "metadata": {
  "kernelspec": {
   "display_name": "Python 3",
   "language": "python",
   "name": "python3"
  },
  "language_info": {
   "codemirror_mode": {
    "name": "ipython",
    "version": 3
   },
   "file_extension": ".py",
   "mimetype": "text/x-python",
   "name": "python",
   "nbconvert_exporter": "python",
   "pygments_lexer": "ipython3",
   "version": "3.5.2"
  }
 },
 "nbformat": 4,
 "nbformat_minor": 2
}
