{
 "cells": [
  {
   "cell_type": "code",
   "execution_count": 1,
   "metadata": {},
   "outputs": [],
   "source": [
    "import tensorflow as tf\n",
    "import numpy as np\n",
    "import pandas as pd\n",
    "import matplotlib\n",
    "import io, os, sys, types\n",
    "import matplotlib.pyplot as plt\n",
    "\n",
    "%matplotlib inline"
   ]
  },
  {
   "cell_type": "code",
   "execution_count": 2,
   "metadata": {},
   "outputs": [
    {
     "data": {
      "text/plain": [
       "(11116440, 8)"
      ]
     },
     "execution_count": 2,
     "metadata": {},
     "output_type": "execute_result"
    }
   ],
   "source": [
    "train = pd.read_csv(\"bike_demand_train.csv\", parse_dates=[\"rent_time\"])\n",
    "train.shape"
   ]
  },
  {
   "cell_type": "code",
   "execution_count": 3,
   "metadata": {},
   "outputs": [
    {
     "data": {
      "text/plain": [
       "(914400, 8)"
      ]
     },
     "execution_count": 3,
     "metadata": {},
     "output_type": "execute_result"
    }
   ],
   "source": [
    "test = pd.read_csv(\"bike_demand_test.csv\", parse_dates=[\"rent_time\"])\n",
    "test.shape"
   ]
  },
  {
   "cell_type": "code",
   "execution_count": 4,
   "metadata": {},
   "outputs": [
    {
     "name": "stdout",
     "output_type": "stream",
     "text": [
      "<class 'pandas.core.frame.DataFrame'>\n",
      "RangeIndex: 11116440 entries, 0 to 11116439\n",
      "Data columns (total 8 columns):\n",
      "rent_place_num    int64\n",
      "rent_time         datetime64[ns]\n",
      "holder            int64\n",
      "rent_freq         float64\n",
      "bef_1             float64\n",
      "bef_2             float64\n",
      "bef_3             float64\n",
      "bef_4             float64\n",
      "dtypes: datetime64[ns](1), float64(5), int64(2)\n",
      "memory usage: 678.5 MB\n"
     ]
    }
   ],
   "source": [
    "train.info()"
   ]
  },
  {
   "cell_type": "code",
   "execution_count": 5,
   "metadata": {},
   "outputs": [
    {
     "name": "stdout",
     "output_type": "stream",
     "text": [
      "<class 'pandas.core.frame.DataFrame'>\n",
      "RangeIndex: 914400 entries, 0 to 914399\n",
      "Data columns (total 8 columns):\n",
      "rent_place_num    914400 non-null int64\n",
      "rent_time         914400 non-null datetime64[ns]\n",
      "holder            914400 non-null int64\n",
      "rent_freq         914400 non-null float64\n",
      "bef_1             914400 non-null float64\n",
      "bef_2             914400 non-null float64\n",
      "bef_3             914400 non-null float64\n",
      "bef_4             914400 non-null float64\n",
      "dtypes: datetime64[ns](1), float64(5), int64(2)\n",
      "memory usage: 55.8 MB\n"
     ]
    }
   ],
   "source": [
    "test.info()"
   ]
  },
  {
   "cell_type": "code",
   "execution_count": 6,
   "metadata": {},
   "outputs": [],
   "source": [
    "## 불필요 columns drop\n",
    "def drop_columns(feature,x):\n",
    "    x.drop(feature, axis = 1, inplace=True)"
   ]
  },
  {
   "cell_type": "code",
   "execution_count": 7,
   "metadata": {},
   "outputs": [],
   "source": [
    "drop_columns([\"rent_time\", \"holder\", \"rent_place_num\"],train)\n",
    "drop_columns([\"rent_time\", \"holder\", \"rent_place_num\"],test)"
   ]
  },
  {
   "cell_type": "code",
   "execution_count": 8,
   "metadata": {},
   "outputs": [
    {
     "name": "stdout",
     "output_type": "stream",
     "text": [
      "(11116440, 5)\n",
      "(914400, 5)\n"
     ]
    }
   ],
   "source": [
    "print(train.shape)\n",
    "print(test.shape)"
   ]
  },
  {
   "cell_type": "code",
   "execution_count": 9,
   "metadata": {},
   "outputs": [],
   "source": [
    "## 하이퍼파라미터 튜닝\n",
    "tf.set_random_seed(777)"
   ]
  },
  {
   "cell_type": "code",
   "execution_count": 27,
   "metadata": {},
   "outputs": [],
   "source": [
    "learning_rate= 0.001\n",
    "total_epoch = 200\n",
    "batch_size = 8760"
   ]
  },
  {
   "cell_type": "code",
   "execution_count": 11,
   "metadata": {},
   "outputs": [],
   "source": [
    "n_input = 5 # Number of features \n",
    "n_step = 4  # Stride \n",
    "n_hidden = 1\n",
    "n_class = 1"
   ]
  },
  {
   "cell_type": "code",
   "execution_count": null,
   "metadata": {},
   "outputs": [],
   "source": [
    "## Data scaler\n",
    "def MinMaxScaler(data):\n",
    "    # 데이터 모든숫자들을 최소 값만큼 뺀다.\n",
    "    numerator = data - np.min(data, 0)\n",
    "    # 최대값과 최소 값의 차이(A)를 구한다\n",
    "    denominator = np.max(data, 0) - np.min(data, 0)\n",
    "    # 너무 큰 값이 나오지 않도록 나눈다\n",
    "    return numerator / (denominator + 1e-7)"
   ]
  },
  {
   "cell_type": "code",
   "execution_count": 12,
   "metadata": {},
   "outputs": [],
   "source": [
    "#train = MinMaxScaler(train)\n",
    "x_pd = train\n",
    "y_pd = train.loc[:,[\"rent_freq\"]]\n",
    "tx_pd = test\n",
    "ty_pd = test.loc[:,[\"rent_freq\"]]"
   ]
  },
  {
   "cell_type": "code",
   "execution_count": 13,
   "metadata": {},
   "outputs": [
    {
     "name": "stderr",
     "output_type": "stream",
     "text": [
      "/usr/local/lib/python3.5/dist-packages/ipykernel_launcher.py:1: FutureWarning: Method .as_matrix will be removed in a future version. Use .values instead.\n",
      "  \"\"\"Entry point for launching an IPython kernel.\n",
      "/usr/local/lib/python3.5/dist-packages/ipykernel_launcher.py:2: FutureWarning: Method .as_matrix will be removed in a future version. Use .values instead.\n",
      "  \n",
      "/usr/local/lib/python3.5/dist-packages/ipykernel_launcher.py:3: FutureWarning: Method .as_matrix will be removed in a future version. Use .values instead.\n",
      "  This is separate from the ipykernel package so we can avoid doing imports until\n",
      "/usr/local/lib/python3.5/dist-packages/ipykernel_launcher.py:4: FutureWarning: Method .as_matrix will be removed in a future version. Use .values instead.\n",
      "  after removing the cwd from sys.path.\n"
     ]
    }
   ],
   "source": [
    "X_train= x_pd.as_matrix()\n",
    "y_train= y_pd.as_matrix().reshape([len(train),n_class])\n",
    "X_test= tx_pd.as_matrix()\n",
    "y_test= ty_pd.as_matrix().reshape([len(test),n_class])"
   ]
  },
  {
   "cell_type": "code",
   "execution_count": 14,
   "metadata": {},
   "outputs": [
    {
     "name": "stdout",
     "output_type": "stream",
     "text": [
      "[[2. 2. 2. 1. 2.]\n",
      " [0. 2. 2. 2. 1.]\n",
      " [0. 0. 2. 2. 2.]\n",
      " [1. 0. 0. 2. 2.]] -> [0.]\n"
     ]
    }
   ],
   "source": [
    "## Build train dataset\n",
    "dataX = []\n",
    "dataY = []\n",
    "for i in range(0, len(y_pd)- n_step):\n",
    "    _x = X_train[i: i + n_step]\n",
    "    _y = y_train[i + n_step]\n",
    "    if i is 0:\n",
    "        print(_x, \"->\", _y)\n",
    "    dataX.append(_x)\n",
    "    dataY.append(_y)"
   ]
  },
  {
   "cell_type": "code",
   "execution_count": 15,
   "metadata": {},
   "outputs": [
    {
     "name": "stdout",
     "output_type": "stream",
     "text": [
      "[[1. 2. 7. 3. 1.]\n",
      " [3. 1. 2. 7. 3.]\n",
      " [2. 3. 1. 2. 7.]\n",
      " [1. 2. 3. 1. 2.]] -> [0.]\n"
     ]
    }
   ],
   "source": [
    "## Build test data set \n",
    "dataXt = []\n",
    "dataYt = []\n",
    "for i in range(0, len(ty_pd)- n_step):\n",
    "    _xt = X_test[i: i + n_step]\n",
    "    _yt = y_test[i + n_step]\n",
    "    if i is 0:\n",
    "        print(_xt, \"->\", _yt)\n",
    "    dataXt.append(_xt)\n",
    "    dataYt.append(_yt)"
   ]
  },
  {
   "cell_type": "code",
   "execution_count": 16,
   "metadata": {},
   "outputs": [],
   "source": [
    "train_size= int(len(dataY) * 1.0)\n",
    "test_size = int(len(dataYt)* 1.0)\n",
    "\n",
    "trainX, testX =np.array(dataX[0:train_size]), np.array(dataXt[0:test_size])\n",
    "trainY, testY =np.array(dataY[0:train_size]), np.array(dataYt[0:test_size])"
   ]
  },
  {
   "cell_type": "code",
   "execution_count": 17,
   "metadata": {},
   "outputs": [
    {
     "name": "stdout",
     "output_type": "stream",
     "text": [
      "X Tensor(\"Placeholder:0\", shape=(?, 4, 5), dtype=float32)\n",
      "Y Tensor(\"Placeholder_1:0\", shape=(?, 1), dtype=float32)\n"
     ]
    }
   ],
   "source": [
    "X = tf.placeholder(tf.float32, [None,n_step,n_input])\n",
    "print(\"X\", X)\n",
    "Y = tf.placeholder(tf.float32, [None,n_class])\n",
    "print(\"Y\", Y)"
   ]
  },
  {
   "cell_type": "code",
   "execution_count": 18,
   "metadata": {},
   "outputs": [],
   "source": [
    "targets = tf.placeholder(tf.float32,[None,n_class])\n",
    "predictions = tf.placeholder(tf.float32,[None,n_class])"
   ]
  },
  {
   "cell_type": "code",
   "execution_count": 19,
   "metadata": {},
   "outputs": [],
   "source": [
    "## lstm cell 생성\n",
    "def lstm_cell():\n",
    "    # LSTM셀을 생성한다.\n",
    "    # num_units: 각 Cell 출력 크기\n",
    "    # forget_bias: The bias added to forget gates.\n",
    "    # state_is_tuple: True ==> accepted and returned states are 2-tuples of the c_state and m_state.\n",
    "    # state_is_tuple: False ==> they are concatenated along the column axis.\n",
    "    # cell = tf.contrib.rnn.BasicLSTMCell(num_units=hidden_dim, state_is_tuple=True, activation=tf.sigmoid)\n",
    "    # cell = tf.contrib.rnn.BasicLSTMCell(num_units=hidden_dim, state_is_tuple=True, activation=tf.tanh)\n",
    "    cell = tf.contrib.rnn.BasicLSTMCell(num_units=n_hidden, forget_bias=0.8, state_is_tuple=True, activation=tf.tanh)\n",
    "    return cell"
   ]
  },
  {
   "cell_type": "code",
   "execution_count": 20,
   "metadata": {},
   "outputs": [
    {
     "name": "stdout",
     "output_type": "stream",
     "text": [
      "WARNING:tensorflow:From <ipython-input-19-6ddce5ae5871>:9: BasicLSTMCell.__init__ (from tensorflow.python.ops.rnn_cell_impl) is deprecated and will be removed in a future version.\n",
      "Instructions for updating:\n",
      "This class is deprecated, please use tf.nn.rnn_cell.LSTMCell, which supports all the feature this cell currently has. Please replace the existing code with tf.nn.rnn_cell.LSTMCell(name='basic_lstm_cell').\n"
     ]
    }
   ],
   "source": [
    "## 1 cell layer 모델\n",
    "multi_cells = tf.contrib.rnn.MultiRNNCell([lstm_cell() for _ in range(1)], state_is_tuple=True)"
   ]
  },
  {
   "cell_type": "code",
   "execution_count": 21,
   "metadata": {},
   "outputs": [
    {
     "name": "stdout",
     "output_type": "stream",
     "text": [
      "hypothesis:  Tensor(\"rnn/transpose_1:0\", shape=(?, 4, 1), dtype=float32)\n"
     ]
    }
   ],
   "source": [
    "## lstm output\n",
    "hypothesis, _states = tf.nn.dynamic_rnn(multi_cells, X, dtype=tf.float32)\n",
    "print(\"hypothesis: \", hypothesis)"
   ]
  },
  {
   "cell_type": "code",
   "execution_count": 22,
   "metadata": {},
   "outputs": [],
   "source": [
    "Y_pred = tf.contrib.layers.fully_connected(hypothesis[:, -1], n_class, activation_fn=None)"
   ]
  },
  {
   "cell_type": "code",
   "execution_count": 23,
   "metadata": {},
   "outputs": [],
   "source": [
    "loss = tf.reduce_sum(tf.square(Y_pred - Y))\n",
    "optimizer = tf.train.AdamOptimizer(learning_rate)\n",
    "train = optimizer.minimize(loss)"
   ]
  },
  {
   "cell_type": "code",
   "execution_count": null,
   "metadata": {},
   "outputs": [],
   "source": [
    "#is_correct = tf.equal(Y_pred,Y, dtype=tf.float32)\n",
    "#accuracy = tf.reduce_mean(tf.cast(is_correct))"
   ]
  },
  {
   "cell_type": "code",
   "execution_count": 24,
   "metadata": {},
   "outputs": [],
   "source": [
    "rmse = tf.sqrt(tf.reduce_mean(tf.squared_difference(targets, predictions)))"
   ]
  },
  {
   "cell_type": "code",
   "execution_count": 25,
   "metadata": {},
   "outputs": [],
   "source": [
    "## 베치 생성자\n",
    "epochs_completed = 0\n",
    "index_in_epoch = 0\n",
    "num_examples = trainX.shape[0]\n",
    "    # for splitting out batches of data\n",
    "def next_batch(batch_size):\n",
    "\n",
    "    global trainX\n",
    "    global trainY\n",
    "    global index_in_epoch\n",
    "    global epochs_completed\n",
    "\n",
    "    start = index_in_epoch\n",
    "    index_in_epoch += batch_size\n",
    "\n",
    "    # when all trainig data have been already used, it is reorder randomly    \n",
    "    if index_in_epoch > num_examples:\n",
    "        # finished epoch\n",
    "        epochs_completed += 1\n",
    "        # shuffle the data\n",
    "        perm = np.arange(num_examples)\n",
    "        np.random.shuffle(perm)\n",
    "        trainX = trainX[perm]\n",
    "        trainY = trainY[perm]\n",
    "        # start next epoch\n",
    "        start = 0\n",
    "        index_in_epoch = batch_size\n",
    "        assert batch_size <= num_examples\n",
    "    end = index_in_epoch\n",
    "    return trainX[start:end], trainY[start:end]"
   ]
  },
  {
   "cell_type": "code",
   "execution_count": 28,
   "metadata": {
    "scrolled": false
   },
   "outputs": [
    {
     "name": "stdout",
     "output_type": "stream",
     "text": [
      "Epoch: 0002 Avg cost = 14833.29777\n",
      "Epoch: 0003 Avg cost = 12914.58850\n",
      "Epoch: 0004 Avg cost = 12559.96763\n",
      "Epoch: 0005 Avg cost = 12334.16005\n",
      "Epoch: 0006 Avg cost = 12131.26225\n",
      "Epoch: 0007 Avg cost = 12036.43158\n",
      "Epoch: 0008 Avg cost = 11947.42957\n",
      "Epoch: 0009 Avg cost = 11879.80549\n",
      "Epoch: 0010 Avg cost = 11810.42812\n",
      "Epoch: 0011 Avg cost = 11781.39180\n",
      "Epoch: 0012 Avg cost = 11742.36291\n",
      "Epoch: 0013 Avg cost = 11705.51461\n",
      "Epoch: 0014 Avg cost = 11688.35941\n",
      "Epoch: 0015 Avg cost = 11659.44880\n",
      "Epoch: 0016 Avg cost = 11661.75936\n",
      "Epoch: 0017 Avg cost = 11610.14010\n",
      "Epoch: 0018 Avg cost = 11570.95401\n",
      "Epoch: 0019 Avg cost = 11549.09358\n",
      "Epoch: 0020 Avg cost = 11546.70809\n",
      "Epoch: 0021 Avg cost = 11561.72908\n",
      "Epoch: 0022 Avg cost = 11485.88941\n",
      "Epoch: 0023 Avg cost = 11489.21051\n",
      "Epoch: 0024 Avg cost = 11482.99668\n",
      "Epoch: 0025 Avg cost = 11467.71989\n",
      "Epoch: 0026 Avg cost = 11467.69660\n",
      "Epoch: 0027 Avg cost = 11460.98077\n",
      "Epoch: 0028 Avg cost = 11420.22399\n",
      "Epoch: 0029 Avg cost = 11421.76318\n",
      "Epoch: 0030 Avg cost = 11451.54410\n",
      "Epoch: 0031 Avg cost = 11409.23508\n",
      "Epoch: 0032 Avg cost = 11404.79792\n",
      "Epoch: 0033 Avg cost = 11420.50842\n",
      "Epoch: 0034 Avg cost = 11403.54117\n",
      "Epoch: 0035 Avg cost = 11394.38693\n",
      "Epoch: 0036 Avg cost = 11402.21249\n",
      "Epoch: 0037 Avg cost = 11381.85893\n",
      "Epoch: 0038 Avg cost = 11402.69501\n",
      "Epoch: 0039 Avg cost = 11364.76744\n",
      "Epoch: 0040 Avg cost = 11381.84709\n",
      "Epoch: 0041 Avg cost = 11372.33686\n",
      "Epoch: 0042 Avg cost = 11373.77192\n",
      "Epoch: 0043 Avg cost = 11372.82639\n",
      "Epoch: 0044 Avg cost = 11372.12365\n",
      "Epoch: 0045 Avg cost = 11341.82405\n",
      "Epoch: 0046 Avg cost = 11387.18932\n",
      "Epoch: 0047 Avg cost = 11343.53014\n",
      "Epoch: 0048 Avg cost = 11358.33858\n",
      "Epoch: 0049 Avg cost = 11378.63682\n",
      "Epoch: 0050 Avg cost = 11340.20910\n",
      "Epoch: 0051 Avg cost = 11382.82575\n",
      "Epoch: 0052 Avg cost = 11297.84864\n",
      "Epoch: 0053 Avg cost = 11356.34400\n",
      "Epoch: 0054 Avg cost = 11347.98371\n",
      "Epoch: 0055 Avg cost = 11348.25044\n",
      "Epoch: 0056 Avg cost = 11330.18102\n",
      "Epoch: 0057 Avg cost = 11347.74981\n",
      "Epoch: 0058 Avg cost = 11329.64126\n",
      "Epoch: 0059 Avg cost = 11345.56039\n",
      "Epoch: 0060 Avg cost = 11319.56073\n",
      "Epoch: 0061 Avg cost = 11334.38994\n",
      "Epoch: 0062 Avg cost = 11348.66305\n",
      "Epoch: 0063 Avg cost = 11316.26399\n",
      "Epoch: 0064 Avg cost = 11320.18870\n",
      "Epoch: 0065 Avg cost = 11327.77937\n",
      "Epoch: 0066 Avg cost = 11365.75270\n",
      "Epoch: 0067 Avg cost = 11289.25444\n",
      "Epoch: 0068 Avg cost = 11324.58453\n",
      "Epoch: 0069 Avg cost = 11314.51356\n",
      "Epoch: 0070 Avg cost = 11326.53021\n",
      "Epoch: 0071 Avg cost = 11317.60856\n",
      "Epoch: 0072 Avg cost = 11341.42737\n",
      "Epoch: 0073 Avg cost = 11291.05842\n",
      "Epoch: 0074 Avg cost = 11345.63696\n",
      "Epoch: 0075 Avg cost = 11289.62064\n",
      "Epoch: 0076 Avg cost = 11324.39827\n",
      "Epoch: 0077 Avg cost = 11326.95387\n",
      "Epoch: 0078 Avg cost = 11298.64934\n",
      "Epoch: 0079 Avg cost = 11316.24284\n",
      "Epoch: 0080 Avg cost = 11328.86704\n",
      "Epoch: 0081 Avg cost = 11291.05956\n",
      "Epoch: 0082 Avg cost = 11324.00781\n",
      "Epoch: 0083 Avg cost = 11299.14435\n",
      "Epoch: 0084 Avg cost = 11296.18479\n",
      "Epoch: 0085 Avg cost = 11302.61157\n",
      "Epoch: 0086 Avg cost = 11299.71208\n",
      "Epoch: 0087 Avg cost = 11330.61198\n",
      "Epoch: 0088 Avg cost = 11293.26241\n",
      "Epoch: 0089 Avg cost = 11293.49579\n",
      "Epoch: 0090 Avg cost = 11325.78062\n",
      "Epoch: 0091 Avg cost = 11294.43806\n",
      "Epoch: 0092 Avg cost = 11288.22429\n",
      "Epoch: 0093 Avg cost = 11313.39148\n",
      "Epoch: 0094 Avg cost = 11303.56049\n",
      "Epoch: 0095 Avg cost = 11293.89167\n",
      "Epoch: 0096 Avg cost = 11291.66098\n",
      "Epoch: 0097 Avg cost = 11313.66087\n",
      "Epoch: 0098 Avg cost = 11290.44184\n",
      "Epoch: 0099 Avg cost = 11309.97394\n",
      "Epoch: 0100 Avg cost = 11302.11282\n",
      "Epoch: 0101 Avg cost = 11287.16734\n",
      "Epoch: 0102 Avg cost = 11291.50216\n",
      "Epoch: 0103 Avg cost = 11298.76274\n",
      "Epoch: 0104 Avg cost = 11302.58060\n",
      "Epoch: 0105 Avg cost = 11281.73837\n",
      "Epoch: 0106 Avg cost = 11288.18048\n",
      "Epoch: 0107 Avg cost = 11301.31405\n",
      "Epoch: 0108 Avg cost = 11319.18828\n",
      "Epoch: 0109 Avg cost = 11272.09029\n",
      "Epoch: 0110 Avg cost = 11297.85074\n",
      "Epoch: 0111 Avg cost = 11294.65869\n",
      "Epoch: 0112 Avg cost = 11280.39189\n",
      "Epoch: 0113 Avg cost = 11283.74206\n",
      "Epoch: 0114 Avg cost = 11282.55586\n",
      "Epoch: 0115 Avg cost = 11319.96387\n",
      "Epoch: 0116 Avg cost = 11246.75249\n",
      "Epoch: 0117 Avg cost = 11318.66485\n",
      "Epoch: 0118 Avg cost = 11289.75658\n",
      "Epoch: 0119 Avg cost = 11261.43552\n",
      "Epoch: 0120 Avg cost = 11304.11913\n",
      "Epoch: 0121 Avg cost = 11292.06471\n",
      "Epoch: 0122 Avg cost = 11289.75224\n",
      "Epoch: 0123 Avg cost = 11282.16111\n",
      "Epoch: 0124 Avg cost = 11266.42621\n",
      "Epoch: 0125 Avg cost = 11317.06411\n",
      "Epoch: 0126 Avg cost = 11278.31023\n",
      "Epoch: 0127 Avg cost = 11291.83387\n",
      "Epoch: 0128 Avg cost = 11274.18462\n",
      "Epoch: 0129 Avg cost = 11308.64807\n",
      "Epoch: 0130 Avg cost = 11250.86701\n",
      "Epoch: 0131 Avg cost = 11298.06904\n",
      "Epoch: 0132 Avg cost = 11286.87511\n",
      "Epoch: 0133 Avg cost = 11275.85129\n",
      "Epoch: 0134 Avg cost = 11288.67813\n",
      "Epoch: 0135 Avg cost = 11260.92833\n",
      "Epoch: 0136 Avg cost = 11317.84958\n",
      "Epoch: 0137 Avg cost = 11267.31050\n",
      "Epoch: 0138 Avg cost = 11280.72553\n",
      "Epoch: 0139 Avg cost = 11272.01356\n",
      "Epoch: 0140 Avg cost = 11291.62091\n",
      "Epoch: 0141 Avg cost = 11291.75860\n",
      "Epoch: 0142 Avg cost = 11256.91934\n",
      "Epoch: 0143 Avg cost = 11291.74514\n",
      "Epoch: 0144 Avg cost = 11297.35243\n",
      "Epoch: 0145 Avg cost = 11230.42914\n",
      "Epoch: 0146 Avg cost = 11281.42916\n",
      "Epoch: 0147 Avg cost = 11298.51533\n",
      "Epoch: 0148 Avg cost = 11288.25794\n",
      "Epoch: 0149 Avg cost = 11285.13965\n",
      "Epoch: 0150 Avg cost = 11263.08838\n",
      "Epoch: 0151 Avg cost = 11301.87710\n",
      "Epoch: 0152 Avg cost = 11257.32452\n",
      "Epoch: 0153 Avg cost = 11285.97031\n",
      "Epoch: 0154 Avg cost = 11251.24581\n",
      "Epoch: 0155 Avg cost = 11290.00781\n",
      "Epoch: 0156 Avg cost = 11305.47884\n",
      "Epoch: 0157 Avg cost = 11255.57867\n",
      "Epoch: 0158 Avg cost = 11286.12832\n",
      "Epoch: 0159 Avg cost = 11280.25779\n",
      "Epoch: 0160 Avg cost = 11267.08343\n",
      "Epoch: 0161 Avg cost = 11321.54929\n",
      "Epoch: 0162 Avg cost = 11237.79383\n",
      "Epoch: 0163 Avg cost = 11267.73174\n",
      "Epoch: 0164 Avg cost = 11268.86641\n",
      "Epoch: 0165 Avg cost = 11294.11669\n",
      "Epoch: 0166 Avg cost = 11269.03397\n",
      "Epoch: 0167 Avg cost = 11288.18594\n",
      "Epoch: 0168 Avg cost = 11251.79929\n",
      "Epoch: 0169 Avg cost = 11298.46914\n",
      "Epoch: 0170 Avg cost = 11280.95016\n",
      "Epoch: 0171 Avg cost = 11242.53061\n",
      "Epoch: 0172 Avg cost = 11277.90430\n",
      "Epoch: 0173 Avg cost = 11284.16084\n",
      "Epoch: 0174 Avg cost = 11248.20043\n",
      "Epoch: 0175 Avg cost = 11317.05515\n",
      "Epoch: 0176 Avg cost = 11258.89923\n",
      "Epoch: 0177 Avg cost = 11258.95738\n",
      "Epoch: 0178 Avg cost = 11310.07084\n",
      "Epoch: 0179 Avg cost = 11219.31793\n",
      "Epoch: 0180 Avg cost = 11304.91068\n",
      "Epoch: 0181 Avg cost = 11321.25756\n",
      "Epoch: 0182 Avg cost = 11209.99885\n",
      "Epoch: 0183 Avg cost = 11273.83115\n",
      "Epoch: 0184 Avg cost = 11299.70658\n",
      "Epoch: 0185 Avg cost = 11246.78273\n",
      "Epoch: 0186 Avg cost = 11255.20374\n",
      "Epoch: 0187 Avg cost = 11267.05336\n",
      "Epoch: 0188 Avg cost = 11277.97442\n",
      "Epoch: 0189 Avg cost = 11278.22844\n",
      "Epoch: 0190 Avg cost = 11264.12622\n",
      "Epoch: 0191 Avg cost = 11263.95063\n",
      "Epoch: 0192 Avg cost = 11293.71451\n",
      "Epoch: 0193 Avg cost = 11258.01499\n",
      "Epoch: 0194 Avg cost = 11280.06905\n",
      "Epoch: 0195 Avg cost = 11256.42379\n",
      "Epoch: 0196 Avg cost = 11286.24382\n",
      "Epoch: 0197 Avg cost = 11257.86230\n",
      "Epoch: 0198 Avg cost = 11281.41575\n",
      "Epoch: 0199 Avg cost = 11253.79721\n",
      "Epoch: 0200 Avg cost = 11254.90055\n",
      "Epoch: 0201 Avg cost = 11268.05262\n",
      "rmse:  1.759269\n"
     ]
    },
    {
     "data": {
      "image/png": "[encoded data removed]",
      "text/plain": [
       "<Figure size 864x432 with 1 Axes>"
      ]
     },
     "metadata": {
      "needs_background": "light"
     },
     "output_type": "display_data"
    }
   ],
   "source": [
    "##모델 학습 및 테스트\n",
    "period = int(X_train.shape[0]/batch_size)\n",
    "with tf.Session() as sess:\n",
    "    init = tf.global_variables_initializer()\n",
    "    sess.run(init)\n",
    "    for epoch in range(1,total_epoch+1):\n",
    "            total_cost = 0\n",
    "            #generator=batch_generator(batch_size,n_step,n_input) <<2nd batch selecting method\n",
    "            for i in range(period):\n",
    "                #batch_xs, batch_ys =next(generator) << 2nd batch selecting method\n",
    "                batch_xs, batch_ys =next_batch(batch_size)\n",
    "                # X 데이터를 RNN 입력 데이터에 맞게 [batch_size, n_step, n_input] 형태로 변환합니다.\n",
    "\n",
    "                _, cost_val = sess.run([train, loss], feed_dict={X: batch_xs, Y: batch_ys})\n",
    "                total_cost += cost_val\n",
    "\n",
    "            print('Epoch:', '%04d' % (epoch + 1),\n",
    "                  'Avg cost =', '{:.5f}'.format(total_cost / period))\n",
    "            \n",
    "            \n",
    "    test_predict = sess.run(Y_pred, feed_dict={X: testX})\n",
    "    np.savetxt('test_predict_lstm.csv', test_predict, delimiter=',', fmt='%d')\n",
    "    \n",
    "    # 테스트용 데이터 기준으로 측정지표 rmse를 산출한다\n",
    "    rmse_val = sess.run(rmse, feed_dict={targets: testY, predictions: test_predict})\n",
    "    print(\"rmse: \", rmse_val)\n",
    "    \n",
    "    plt.figure(figsize=(12,6))\n",
    "    plt.plot(testY, 'r')\n",
    "    plt.plot(test_predict, 'b')\n",
    "    plt.xlabel(\"Time Period\")\n",
    "    plt.ylabel(\"Rent_freq\")\n",
    "    plt.show()"
   ]
  }
 ],
 "metadata": {
  "kernelspec": {
   "display_name": "Python 3",
   "language": "python",
   "name": "python3"
  },
  "language_info": {
   "codemirror_mode": {
    "name": "ipython",
    "version": 3
   },
   "file_extension": ".py",
   "mimetype": "text/x-python",
   "name": "python",
   "nbconvert_exporter": "python",
   "pygments_lexer": "ipython3",
   "version": "3.5.2"
  }
 },
 "nbformat": 4,
 "nbformat_minor": 2
}
