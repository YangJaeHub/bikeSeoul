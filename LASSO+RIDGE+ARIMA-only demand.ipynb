{
 "cells": [
  {
   "cell_type": "code",
   "execution_count": 1,
   "metadata": {
    "colab": {},
    "colab_type": "code",
    "id": "jFaqYGqhC2SC"
   },
   "outputs": [],
   "source": [
    "from sklearn.linear_model import Lasso, LassoCV, Ridge, RidgeCV, LinearRegression\n",
    "import pandas as pd\n",
    "import numpy as np\n",
    "from sklearn.metrics import mean_squared_error\n",
    "from math import sqrt"
   ]
  },
  {
   "cell_type": "code",
   "execution_count": 0,
   "metadata": {
    "colab": {},
    "colab_type": "code",
    "id": "YTWYM-L6yhC_"
   },
   "outputs": [],
   "source": []
  },
  {
   "cell_type": "code",
   "execution_count": 0,
   "metadata": {
    "colab": {},
    "colab_type": "code",
    "id": "Ht2QRbJZyhcA"
   },
   "outputs": [],
   "source": []
  },
  {
   "cell_type": "markdown",
   "metadata": {
    "colab_type": "text",
    "id": "n5Eyd-bK0MKS"
   },
   "source": [
    "data 불러오기"
   ]
  },
  {
   "cell_type": "code",
   "execution_count": 2,
   "metadata": {
    "colab": {},
    "colab_type": "code",
    "id": "vYNCJ4oJ0Lw9"
   },
   "outputs": [],
   "source": [
    "train = pd.read_csv(\"bike_demand_train.csv\")"
   ]
  },
  {
   "cell_type": "code",
   "execution_count": 3,
   "metadata": {
    "colab": {},
    "colab_type": "code",
    "id": "y0XEm837LQqh"
   },
   "outputs": [],
   "source": [
    "test = pd.read_csv(\"bike_demand_test.csv\")"
   ]
  },
  {
   "cell_type": "code",
   "execution_count": 5,
   "metadata": {
    "colab": {
     "base_uri": "https://localhost:8080/",
     "height": 260
    },
    "colab_type": "code",
    "executionInfo": {
     "elapsed": 536,
     "status": "ok",
     "timestamp": 1544379968864,
     "user": {
      "displayName": "heeseon cheon",
      "photoUrl": "",
      "userId": "08768795282513849486"
     },
     "user_tz": -540
    },
    "id": "Wo4wdqvj51eu",
    "outputId": "5d97b0dd-8d79-40d8-858b-419db3cf482f"
   },
   "outputs": [
    {
     "data": {
      "text/plain": [
       "Index(['rent_place_num', 'rent_time', 'holder', 'rent_freq', 'bef_1', 'bef_2',\n",
       "       'bef_3', 'bef_4'],\n",
       "      dtype='object')"
      ]
     },
     "execution_count": 5,
     "metadata": {},
     "output_type": "execute_result"
    }
   ],
   "source": [
    "train.columns"
   ]
  },
  {
   "cell_type": "code",
   "execution_count": 6,
   "metadata": {},
   "outputs": [
    {
     "data": {
      "text/html": [
       "<div>\n",
       "<style scoped>\n",
       "    .dataframe tbody tr th:only-of-type {\n",
       "        vertical-align: middle;\n",
       "    }\n",
       "\n",
       "    .dataframe tbody tr th {\n",
       "        vertical-align: top;\n",
       "    }\n",
       "\n",
       "    .dataframe thead th {\n",
       "        text-align: right;\n",
       "    }\n",
       "</style>\n",
       "<table border=\"1\" class=\"dataframe\">\n",
       "  <thead>\n",
       "    <tr style=\"text-align: right;\">\n",
       "      <th></th>\n",
       "      <th>rent_place_num</th>\n",
       "      <th>rent_time</th>\n",
       "      <th>holder</th>\n",
       "      <th>rent_freq</th>\n",
       "      <th>bef_1</th>\n",
       "      <th>bef_2</th>\n",
       "      <th>bef_3</th>\n",
       "      <th>bef_4</th>\n",
       "    </tr>\n",
       "  </thead>\n",
       "  <tbody>\n",
       "    <tr>\n",
       "      <th>0</th>\n",
       "      <td>101</td>\n",
       "      <td>2017-06-01 00</td>\n",
       "      <td>5</td>\n",
       "      <td>2.0</td>\n",
       "      <td>2.0</td>\n",
       "      <td>2.0</td>\n",
       "      <td>1.0</td>\n",
       "      <td>2.0</td>\n",
       "    </tr>\n",
       "    <tr>\n",
       "      <th>1</th>\n",
       "      <td>101</td>\n",
       "      <td>2017-06-01 01</td>\n",
       "      <td>5</td>\n",
       "      <td>0.0</td>\n",
       "      <td>2.0</td>\n",
       "      <td>2.0</td>\n",
       "      <td>2.0</td>\n",
       "      <td>1.0</td>\n",
       "    </tr>\n",
       "    <tr>\n",
       "      <th>2</th>\n",
       "      <td>101</td>\n",
       "      <td>2017-06-01 02</td>\n",
       "      <td>5</td>\n",
       "      <td>0.0</td>\n",
       "      <td>0.0</td>\n",
       "      <td>2.0</td>\n",
       "      <td>2.0</td>\n",
       "      <td>2.0</td>\n",
       "    </tr>\n",
       "    <tr>\n",
       "      <th>3</th>\n",
       "      <td>101</td>\n",
       "      <td>2017-06-01 03</td>\n",
       "      <td>5</td>\n",
       "      <td>1.0</td>\n",
       "      <td>0.0</td>\n",
       "      <td>0.0</td>\n",
       "      <td>2.0</td>\n",
       "      <td>2.0</td>\n",
       "    </tr>\n",
       "    <tr>\n",
       "      <th>4</th>\n",
       "      <td>101</td>\n",
       "      <td>2017-06-01 04</td>\n",
       "      <td>5</td>\n",
       "      <td>0.0</td>\n",
       "      <td>1.0</td>\n",
       "      <td>0.0</td>\n",
       "      <td>0.0</td>\n",
       "      <td>2.0</td>\n",
       "    </tr>\n",
       "  </tbody>\n",
       "</table>\n",
       "</div>"
      ],
      "text/plain": [
       "   rent_place_num      rent_time  holder  rent_freq  bef_1  bef_2  bef_3  \\\n",
       "0             101  2017-06-01 00       5        2.0    2.0    2.0    1.0   \n",
       "1             101  2017-06-01 01       5        0.0    2.0    2.0    2.0   \n",
       "2             101  2017-06-01 02       5        0.0    0.0    2.0    2.0   \n",
       "3             101  2017-06-01 03       5        1.0    0.0    0.0    2.0   \n",
       "4             101  2017-06-01 04       5        0.0    1.0    0.0    0.0   \n",
       "\n",
       "   bef_4  \n",
       "0    2.0  \n",
       "1    1.0  \n",
       "2    2.0  \n",
       "3    2.0  \n",
       "4    2.0  "
      ]
     },
     "execution_count": 6,
     "metadata": {},
     "output_type": "execute_result"
    }
   ],
   "source": [
    "train.head()"
   ]
  },
  {
   "cell_type": "code",
   "execution_count": 18,
   "metadata": {},
   "outputs": [
    {
     "data": {
      "text/plain": [
       "rent_place_num    False\n",
       "rent_time         False\n",
       "holder            False\n",
       "rent_freq         False\n",
       "bef_1             False\n",
       "bef_2             False\n",
       "bef_3             False\n",
       "bef_4             False\n",
       "dtype: bool"
      ]
     },
     "execution_count": 18,
     "metadata": {},
     "output_type": "execute_result"
    }
   ],
   "source": [
    "test.isna().any()"
   ]
  },
  {
   "cell_type": "code",
   "execution_count": 4,
   "metadata": {
    "colab": {},
    "colab_type": "code",
    "id": "9iJ90bZrMuq0"
   },
   "outputs": [],
   "source": [
    "trainX = train[train.columns.difference(['rent_place_num','rent_time','rent_freq','holder'])]\n",
    "trainY = train['rent_freq']"
   ]
  },
  {
   "cell_type": "code",
   "execution_count": 5,
   "metadata": {
    "colab": {},
    "colab_type": "code",
    "id": "aNqWuZ0pP52z"
   },
   "outputs": [],
   "source": [
    "testX = test[test.columns.difference(['rent_place_num','rent_time','rent_freq','holder'])]\n",
    "testY = test['rent_freq']"
   ]
  },
  {
   "cell_type": "code",
   "execution_count": 11,
   "metadata": {
    "colab": {
     "base_uri": "https://localhost:8080/",
     "height": 36
    },
    "colab_type": "code",
    "executionInfo": {
     "elapsed": 665,
     "status": "ok",
     "timestamp": 1544380453775,
     "user": {
      "displayName": "heeseon cheon",
      "photoUrl": "",
      "userId": "08768795282513849486"
     },
     "user_tz": -540
    },
    "id": "6WHvSG8CPTdf",
    "outputId": "b3d49e5c-4233-4de4-cfd0-f70f87e32368"
   },
   "outputs": [
    {
     "data": {
      "text/plain": [
       "78"
      ]
     },
     "execution_count": 11,
     "metadata": {},
     "output_type": "execute_result"
    }
   ],
   "source": [
    "len(train.columns.difference(['rent_place_num']))"
   ]
  },
  {
   "cell_type": "markdown",
   "metadata": {
    "colab_type": "text",
    "id": "oSJ6RLMRDlDZ"
   },
   "source": [
    "LASSO"
   ]
  },
  {
   "cell_type": "code",
   "execution_count": null,
   "metadata": {},
   "outputs": [],
   "source": [
    "## 적합한 alpha값 찾기"
   ]
  },
  {
   "cell_type": "code",
   "execution_count": 42,
   "metadata": {
    "colab": {},
    "colab_type": "code",
    "id": "hUeazd5XDXq4"
   },
   "outputs": [
    {
     "data": {
      "text/plain": [
       "1.7787562349361705"
      ]
     },
     "execution_count": 42,
     "metadata": {},
     "output_type": "execute_result"
    }
   ],
   "source": [
    "lasso_reg = LassoCV(cv=10, random_state=123) # alpha : 정규화 상수\n",
    "lasso_reg.fit(trainX, trainY)\n",
    "lasso_reg_testY = lasso_reg.predict(testX)\n",
    "\n",
    "sqrt(mean_squared_error(lasso_reg_testY, testY))"
   ]
  },
  {
   "cell_type": "code",
   "execution_count": 57,
   "metadata": {
    "scrolled": true
   },
   "outputs": [
    {
     "data": {
      "text/html": [
       "<div>\n",
       "<style scoped>\n",
       "    .dataframe tbody tr th:only-of-type {\n",
       "        vertical-align: middle;\n",
       "    }\n",
       "\n",
       "    .dataframe tbody tr th {\n",
       "        vertical-align: top;\n",
       "    }\n",
       "\n",
       "    .dataframe thead th {\n",
       "        text-align: right;\n",
       "    }\n",
       "</style>\n",
       "<table border=\"1\" class=\"dataframe\">\n",
       "  <thead>\n",
       "    <tr style=\"text-align: right;\">\n",
       "      <th></th>\n",
       "      <th>bef_1</th>\n",
       "      <th>bef_2</th>\n",
       "      <th>bef_3</th>\n",
       "      <th>bef_4</th>\n",
       "    </tr>\n",
       "  </thead>\n",
       "  <tbody>\n",
       "    <tr>\n",
       "      <th>0</th>\n",
       "      <td>1.098612</td>\n",
       "      <td>1.098612</td>\n",
       "      <td>0.693147</td>\n",
       "      <td>1.098612</td>\n",
       "    </tr>\n",
       "    <tr>\n",
       "      <th>1</th>\n",
       "      <td>1.098612</td>\n",
       "      <td>1.098612</td>\n",
       "      <td>1.098612</td>\n",
       "      <td>0.693147</td>\n",
       "    </tr>\n",
       "    <tr>\n",
       "      <th>2</th>\n",
       "      <td>0.000000</td>\n",
       "      <td>1.098612</td>\n",
       "      <td>1.098612</td>\n",
       "      <td>1.098612</td>\n",
       "    </tr>\n",
       "    <tr>\n",
       "      <th>3</th>\n",
       "      <td>0.000000</td>\n",
       "      <td>0.000000</td>\n",
       "      <td>1.098612</td>\n",
       "      <td>1.098612</td>\n",
       "    </tr>\n",
       "    <tr>\n",
       "      <th>4</th>\n",
       "      <td>0.693147</td>\n",
       "      <td>0.000000</td>\n",
       "      <td>0.000000</td>\n",
       "      <td>1.098612</td>\n",
       "    </tr>\n",
       "    <tr>\n",
       "      <th>5</th>\n",
       "      <td>0.000000</td>\n",
       "      <td>0.693147</td>\n",
       "      <td>0.000000</td>\n",
       "      <td>0.000000</td>\n",
       "    </tr>\n",
       "    <tr>\n",
       "      <th>6</th>\n",
       "      <td>0.000000</td>\n",
       "      <td>0.000000</td>\n",
       "      <td>0.693147</td>\n",
       "      <td>0.000000</td>\n",
       "    </tr>\n",
       "    <tr>\n",
       "      <th>7</th>\n",
       "      <td>0.693147</td>\n",
       "      <td>0.000000</td>\n",
       "      <td>0.000000</td>\n",
       "      <td>0.693147</td>\n",
       "    </tr>\n",
       "    <tr>\n",
       "      <th>8</th>\n",
       "      <td>0.693147</td>\n",
       "      <td>0.693147</td>\n",
       "      <td>0.000000</td>\n",
       "      <td>0.000000</td>\n",
       "    </tr>\n",
       "    <tr>\n",
       "      <th>9</th>\n",
       "      <td>0.000000</td>\n",
       "      <td>0.693147</td>\n",
       "      <td>0.693147</td>\n",
       "      <td>0.000000</td>\n",
       "    </tr>\n",
       "    <tr>\n",
       "      <th>10</th>\n",
       "      <td>0.693147</td>\n",
       "      <td>0.000000</td>\n",
       "      <td>0.693147</td>\n",
       "      <td>0.693147</td>\n",
       "    </tr>\n",
       "    <tr>\n",
       "      <th>11</th>\n",
       "      <td>0.000000</td>\n",
       "      <td>0.693147</td>\n",
       "      <td>0.000000</td>\n",
       "      <td>0.693147</td>\n",
       "    </tr>\n",
       "    <tr>\n",
       "      <th>12</th>\n",
       "      <td>0.000000</td>\n",
       "      <td>0.000000</td>\n",
       "      <td>0.693147</td>\n",
       "      <td>0.000000</td>\n",
       "    </tr>\n",
       "    <tr>\n",
       "      <th>13</th>\n",
       "      <td>0.000000</td>\n",
       "      <td>0.000000</td>\n",
       "      <td>0.000000</td>\n",
       "      <td>0.693147</td>\n",
       "    </tr>\n",
       "    <tr>\n",
       "      <th>14</th>\n",
       "      <td>0.000000</td>\n",
       "      <td>0.000000</td>\n",
       "      <td>0.000000</td>\n",
       "      <td>0.000000</td>\n",
       "    </tr>\n",
       "    <tr>\n",
       "      <th>15</th>\n",
       "      <td>0.693147</td>\n",
       "      <td>0.000000</td>\n",
       "      <td>0.000000</td>\n",
       "      <td>0.000000</td>\n",
       "    </tr>\n",
       "    <tr>\n",
       "      <th>16</th>\n",
       "      <td>0.000000</td>\n",
       "      <td>0.693147</td>\n",
       "      <td>0.000000</td>\n",
       "      <td>0.000000</td>\n",
       "    </tr>\n",
       "    <tr>\n",
       "      <th>17</th>\n",
       "      <td>0.693147</td>\n",
       "      <td>0.000000</td>\n",
       "      <td>0.693147</td>\n",
       "      <td>0.000000</td>\n",
       "    </tr>\n",
       "    <tr>\n",
       "      <th>18</th>\n",
       "      <td>0.693147</td>\n",
       "      <td>0.693147</td>\n",
       "      <td>0.000000</td>\n",
       "      <td>0.693147</td>\n",
       "    </tr>\n",
       "    <tr>\n",
       "      <th>19</th>\n",
       "      <td>0.693147</td>\n",
       "      <td>0.693147</td>\n",
       "      <td>0.693147</td>\n",
       "      <td>0.000000</td>\n",
       "    </tr>\n",
       "    <tr>\n",
       "      <th>20</th>\n",
       "      <td>0.000000</td>\n",
       "      <td>0.693147</td>\n",
       "      <td>0.693147</td>\n",
       "      <td>0.693147</td>\n",
       "    </tr>\n",
       "    <tr>\n",
       "      <th>21</th>\n",
       "      <td>1.098612</td>\n",
       "      <td>0.000000</td>\n",
       "      <td>0.693147</td>\n",
       "      <td>0.693147</td>\n",
       "    </tr>\n",
       "    <tr>\n",
       "      <th>22</th>\n",
       "      <td>0.000000</td>\n",
       "      <td>1.098612</td>\n",
       "      <td>0.000000</td>\n",
       "      <td>0.693147</td>\n",
       "    </tr>\n",
       "    <tr>\n",
       "      <th>23</th>\n",
       "      <td>0.000000</td>\n",
       "      <td>0.000000</td>\n",
       "      <td>1.098612</td>\n",
       "      <td>0.000000</td>\n",
       "    </tr>\n",
       "    <tr>\n",
       "      <th>24</th>\n",
       "      <td>0.693147</td>\n",
       "      <td>0.000000</td>\n",
       "      <td>0.000000</td>\n",
       "      <td>1.098612</td>\n",
       "    </tr>\n",
       "    <tr>\n",
       "      <th>25</th>\n",
       "      <td>0.000000</td>\n",
       "      <td>0.693147</td>\n",
       "      <td>0.000000</td>\n",
       "      <td>0.000000</td>\n",
       "    </tr>\n",
       "    <tr>\n",
       "      <th>26</th>\n",
       "      <td>0.693147</td>\n",
       "      <td>0.000000</td>\n",
       "      <td>0.693147</td>\n",
       "      <td>0.000000</td>\n",
       "    </tr>\n",
       "    <tr>\n",
       "      <th>27</th>\n",
       "      <td>0.693147</td>\n",
       "      <td>0.693147</td>\n",
       "      <td>0.000000</td>\n",
       "      <td>0.693147</td>\n",
       "    </tr>\n",
       "    <tr>\n",
       "      <th>28</th>\n",
       "      <td>0.000000</td>\n",
       "      <td>0.693147</td>\n",
       "      <td>0.693147</td>\n",
       "      <td>0.000000</td>\n",
       "    </tr>\n",
       "    <tr>\n",
       "      <th>29</th>\n",
       "      <td>0.000000</td>\n",
       "      <td>0.000000</td>\n",
       "      <td>0.693147</td>\n",
       "      <td>0.693147</td>\n",
       "    </tr>\n",
       "    <tr>\n",
       "      <th>...</th>\n",
       "      <td>...</td>\n",
       "      <td>...</td>\n",
       "      <td>...</td>\n",
       "      <td>...</td>\n",
       "    </tr>\n",
       "    <tr>\n",
       "      <th>11116410</th>\n",
       "      <td>1.098612</td>\n",
       "      <td>1.609438</td>\n",
       "      <td>1.098612</td>\n",
       "      <td>0.000000</td>\n",
       "    </tr>\n",
       "    <tr>\n",
       "      <th>11116411</th>\n",
       "      <td>0.693147</td>\n",
       "      <td>1.098612</td>\n",
       "      <td>1.609438</td>\n",
       "      <td>1.098612</td>\n",
       "    </tr>\n",
       "    <tr>\n",
       "      <th>11116412</th>\n",
       "      <td>0.000000</td>\n",
       "      <td>0.693147</td>\n",
       "      <td>1.098612</td>\n",
       "      <td>1.609438</td>\n",
       "    </tr>\n",
       "    <tr>\n",
       "      <th>11116413</th>\n",
       "      <td>0.000000</td>\n",
       "      <td>0.000000</td>\n",
       "      <td>0.693147</td>\n",
       "      <td>1.098612</td>\n",
       "    </tr>\n",
       "    <tr>\n",
       "      <th>11116414</th>\n",
       "      <td>1.609438</td>\n",
       "      <td>0.000000</td>\n",
       "      <td>0.000000</td>\n",
       "      <td>0.693147</td>\n",
       "    </tr>\n",
       "    <tr>\n",
       "      <th>11116415</th>\n",
       "      <td>0.000000</td>\n",
       "      <td>1.609438</td>\n",
       "      <td>0.000000</td>\n",
       "      <td>0.000000</td>\n",
       "    </tr>\n",
       "    <tr>\n",
       "      <th>11116416</th>\n",
       "      <td>0.000000</td>\n",
       "      <td>0.000000</td>\n",
       "      <td>1.609438</td>\n",
       "      <td>0.000000</td>\n",
       "    </tr>\n",
       "    <tr>\n",
       "      <th>11116417</th>\n",
       "      <td>0.000000</td>\n",
       "      <td>0.000000</td>\n",
       "      <td>0.000000</td>\n",
       "      <td>1.609438</td>\n",
       "    </tr>\n",
       "    <tr>\n",
       "      <th>11116418</th>\n",
       "      <td>0.000000</td>\n",
       "      <td>0.000000</td>\n",
       "      <td>0.000000</td>\n",
       "      <td>0.000000</td>\n",
       "    </tr>\n",
       "    <tr>\n",
       "      <th>11116419</th>\n",
       "      <td>0.000000</td>\n",
       "      <td>0.000000</td>\n",
       "      <td>0.000000</td>\n",
       "      <td>0.000000</td>\n",
       "    </tr>\n",
       "    <tr>\n",
       "      <th>11116420</th>\n",
       "      <td>0.000000</td>\n",
       "      <td>0.000000</td>\n",
       "      <td>0.000000</td>\n",
       "      <td>0.000000</td>\n",
       "    </tr>\n",
       "    <tr>\n",
       "      <th>11116421</th>\n",
       "      <td>0.000000</td>\n",
       "      <td>0.000000</td>\n",
       "      <td>0.000000</td>\n",
       "      <td>0.000000</td>\n",
       "    </tr>\n",
       "    <tr>\n",
       "      <th>11116422</th>\n",
       "      <td>0.000000</td>\n",
       "      <td>0.000000</td>\n",
       "      <td>0.000000</td>\n",
       "      <td>0.000000</td>\n",
       "    </tr>\n",
       "    <tr>\n",
       "      <th>11116423</th>\n",
       "      <td>0.000000</td>\n",
       "      <td>0.000000</td>\n",
       "      <td>0.000000</td>\n",
       "      <td>0.000000</td>\n",
       "    </tr>\n",
       "    <tr>\n",
       "      <th>11116424</th>\n",
       "      <td>0.000000</td>\n",
       "      <td>0.000000</td>\n",
       "      <td>0.000000</td>\n",
       "      <td>0.000000</td>\n",
       "    </tr>\n",
       "    <tr>\n",
       "      <th>11116425</th>\n",
       "      <td>0.000000</td>\n",
       "      <td>0.000000</td>\n",
       "      <td>0.000000</td>\n",
       "      <td>0.000000</td>\n",
       "    </tr>\n",
       "    <tr>\n",
       "      <th>11116426</th>\n",
       "      <td>0.693147</td>\n",
       "      <td>0.000000</td>\n",
       "      <td>0.000000</td>\n",
       "      <td>0.000000</td>\n",
       "    </tr>\n",
       "    <tr>\n",
       "      <th>11116427</th>\n",
       "      <td>0.000000</td>\n",
       "      <td>0.693147</td>\n",
       "      <td>0.000000</td>\n",
       "      <td>0.000000</td>\n",
       "    </tr>\n",
       "    <tr>\n",
       "      <th>11116428</th>\n",
       "      <td>0.693147</td>\n",
       "      <td>0.000000</td>\n",
       "      <td>0.693147</td>\n",
       "      <td>0.000000</td>\n",
       "    </tr>\n",
       "    <tr>\n",
       "      <th>11116429</th>\n",
       "      <td>0.693147</td>\n",
       "      <td>0.693147</td>\n",
       "      <td>0.000000</td>\n",
       "      <td>0.693147</td>\n",
       "    </tr>\n",
       "    <tr>\n",
       "      <th>11116430</th>\n",
       "      <td>0.000000</td>\n",
       "      <td>0.693147</td>\n",
       "      <td>0.693147</td>\n",
       "      <td>0.000000</td>\n",
       "    </tr>\n",
       "    <tr>\n",
       "      <th>11116431</th>\n",
       "      <td>0.693147</td>\n",
       "      <td>0.000000</td>\n",
       "      <td>0.693147</td>\n",
       "      <td>0.693147</td>\n",
       "    </tr>\n",
       "    <tr>\n",
       "      <th>11116432</th>\n",
       "      <td>0.693147</td>\n",
       "      <td>0.693147</td>\n",
       "      <td>0.000000</td>\n",
       "      <td>0.693147</td>\n",
       "    </tr>\n",
       "    <tr>\n",
       "      <th>11116433</th>\n",
       "      <td>1.386294</td>\n",
       "      <td>0.693147</td>\n",
       "      <td>0.693147</td>\n",
       "      <td>0.000000</td>\n",
       "    </tr>\n",
       "    <tr>\n",
       "      <th>11116434</th>\n",
       "      <td>0.000000</td>\n",
       "      <td>1.386294</td>\n",
       "      <td>0.693147</td>\n",
       "      <td>0.693147</td>\n",
       "    </tr>\n",
       "    <tr>\n",
       "      <th>11116435</th>\n",
       "      <td>0.693147</td>\n",
       "      <td>0.000000</td>\n",
       "      <td>1.386294</td>\n",
       "      <td>0.693147</td>\n",
       "    </tr>\n",
       "    <tr>\n",
       "      <th>11116436</th>\n",
       "      <td>0.693147</td>\n",
       "      <td>0.693147</td>\n",
       "      <td>0.000000</td>\n",
       "      <td>1.386294</td>\n",
       "    </tr>\n",
       "    <tr>\n",
       "      <th>11116437</th>\n",
       "      <td>0.693147</td>\n",
       "      <td>0.693147</td>\n",
       "      <td>0.693147</td>\n",
       "      <td>0.000000</td>\n",
       "    </tr>\n",
       "    <tr>\n",
       "      <th>11116438</th>\n",
       "      <td>0.000000</td>\n",
       "      <td>0.693147</td>\n",
       "      <td>0.693147</td>\n",
       "      <td>0.693147</td>\n",
       "    </tr>\n",
       "    <tr>\n",
       "      <th>11116439</th>\n",
       "      <td>0.693147</td>\n",
       "      <td>0.000000</td>\n",
       "      <td>0.693147</td>\n",
       "      <td>0.693147</td>\n",
       "    </tr>\n",
       "  </tbody>\n",
       "</table>\n",
       "<p>11116440 rows × 4 columns</p>\n",
       "</div>"
      ],
      "text/plain": [
       "             bef_1     bef_2     bef_3     bef_4\n",
       "0         1.098612  1.098612  0.693147  1.098612\n",
       "1         1.098612  1.098612  1.098612  0.693147\n",
       "2         0.000000  1.098612  1.098612  1.098612\n",
       "3         0.000000  0.000000  1.098612  1.098612\n",
       "4         0.693147  0.000000  0.000000  1.098612\n",
       "5         0.000000  0.693147  0.000000  0.000000\n",
       "6         0.000000  0.000000  0.693147  0.000000\n",
       "7         0.693147  0.000000  0.000000  0.693147\n",
       "8         0.693147  0.693147  0.000000  0.000000\n",
       "9         0.000000  0.693147  0.693147  0.000000\n",
       "10        0.693147  0.000000  0.693147  0.693147\n",
       "11        0.000000  0.693147  0.000000  0.693147\n",
       "12        0.000000  0.000000  0.693147  0.000000\n",
       "13        0.000000  0.000000  0.000000  0.693147\n",
       "14        0.000000  0.000000  0.000000  0.000000\n",
       "15        0.693147  0.000000  0.000000  0.000000\n",
       "16        0.000000  0.693147  0.000000  0.000000\n",
       "17        0.693147  0.000000  0.693147  0.000000\n",
       "18        0.693147  0.693147  0.000000  0.693147\n",
       "19        0.693147  0.693147  0.693147  0.000000\n",
       "20        0.000000  0.693147  0.693147  0.693147\n",
       "21        1.098612  0.000000  0.693147  0.693147\n",
       "22        0.000000  1.098612  0.000000  0.693147\n",
       "23        0.000000  0.000000  1.098612  0.000000\n",
       "24        0.693147  0.000000  0.000000  1.098612\n",
       "25        0.000000  0.693147  0.000000  0.000000\n",
       "26        0.693147  0.000000  0.693147  0.000000\n",
       "27        0.693147  0.693147  0.000000  0.693147\n",
       "28        0.000000  0.693147  0.693147  0.000000\n",
       "29        0.000000  0.000000  0.693147  0.693147\n",
       "...            ...       ...       ...       ...\n",
       "11116410  1.098612  1.609438  1.098612  0.000000\n",
       "11116411  0.693147  1.098612  1.609438  1.098612\n",
       "11116412  0.000000  0.693147  1.098612  1.609438\n",
       "11116413  0.000000  0.000000  0.693147  1.098612\n",
       "11116414  1.609438  0.000000  0.000000  0.693147\n",
       "11116415  0.000000  1.609438  0.000000  0.000000\n",
       "11116416  0.000000  0.000000  1.609438  0.000000\n",
       "11116417  0.000000  0.000000  0.000000  1.609438\n",
       "11116418  0.000000  0.000000  0.000000  0.000000\n",
       "11116419  0.000000  0.000000  0.000000  0.000000\n",
       "11116420  0.000000  0.000000  0.000000  0.000000\n",
       "11116421  0.000000  0.000000  0.000000  0.000000\n",
       "11116422  0.000000  0.000000  0.000000  0.000000\n",
       "11116423  0.000000  0.000000  0.000000  0.000000\n",
       "11116424  0.000000  0.000000  0.000000  0.000000\n",
       "11116425  0.000000  0.000000  0.000000  0.000000\n",
       "11116426  0.693147  0.000000  0.000000  0.000000\n",
       "11116427  0.000000  0.693147  0.000000  0.000000\n",
       "11116428  0.693147  0.000000  0.693147  0.000000\n",
       "11116429  0.693147  0.693147  0.000000  0.693147\n",
       "11116430  0.000000  0.693147  0.693147  0.000000\n",
       "11116431  0.693147  0.000000  0.693147  0.693147\n",
       "11116432  0.693147  0.693147  0.000000  0.693147\n",
       "11116433  1.386294  0.693147  0.693147  0.000000\n",
       "11116434  0.000000  1.386294  0.693147  0.693147\n",
       "11116435  0.693147  0.000000  1.386294  0.693147\n",
       "11116436  0.693147  0.693147  0.000000  1.386294\n",
       "11116437  0.693147  0.693147  0.693147  0.000000\n",
       "11116438  0.000000  0.693147  0.693147  0.693147\n",
       "11116439  0.693147  0.000000  0.693147  0.693147\n",
       "\n",
       "[11116440 rows x 4 columns]"
      ]
     },
     "execution_count": 57,
     "metadata": {},
     "output_type": "execute_result"
    }
   ],
   "source": [
    "np.log1p(trainX)"
   ]
  },
  {
   "cell_type": "code",
   "execution_count": 72,
   "metadata": {
    "colab": {},
    "colab_type": "code",
    "id": "a65CtqxgPU37",
    "scrolled": true
   },
   "outputs": [],
   "source": [
    "#lasso_result = pd.DataFrame(testY)\n",
    "#lasso_alphas = []\n",
    "lasso_coefs = pd.DataFrame()\n",
    "for i in range(0,10):\n",
    "    lasso_reg = LassoCV(cv=10, random_state=i, selection='random')\n",
    "    lasso_reg.fit(trainX, trainY)\n",
    "    lasso_reg_testY = lasso_reg.predict(testX)\n",
    "    #lasso_result = pd.concat([lasso_result, pd.DataFrame(lasso_reg_testY)], axis=1)\n",
    "    #lasso_alphas.append(lasso_reg.alpha_)\n",
    "    lasso_coefs = pd.concat([lasso_coefs, pd.DataFrame(lasso_reg.coef_)], axis=1)"
   ]
  },
  {
   "cell_type": "code",
   "execution_count": 10,
   "metadata": {
    "scrolled": false
   },
   "outputs": [],
   "source": [
    "lasso_log_result = pd.DataFrame(testY)\n",
    "lasso_log_alphas = []\n",
    "lasso_log_coefs = pd.DataFrame()\n",
    "for i in range(0,10):\n",
    "    lasso_log_reg = LassoCV(cv=10, random_state=i, selection='random')\n",
    "    lasso_log_reg.fit(np.log1p(trainX), np.log1p(trainY))\n",
    "    lasso_log_reg_testY = np.expm1(lasso_log_reg.predict(np.log1p(testX)))\n",
    "    lasso_log_result = pd.concat([lasso_log_result, pd.DataFrame(lasso_log_reg_testY)], axis=1)\n",
    "    lasso_log_alphas.append(lasso_log_reg.alpha_)\n",
    "    lasso_log_coefs = pd.concat([lasso_log_coefs, pd.DataFrame(lasso_log_reg.coef_)], axis=1)"
   ]
  },
  {
   "cell_type": "code",
   "execution_count": 73,
   "metadata": {},
   "outputs": [
    {
     "data": {
      "text/html": [
       "<div>\n",
       "<style scoped>\n",
       "    .dataframe tbody tr th:only-of-type {\n",
       "        vertical-align: middle;\n",
       "    }\n",
       "\n",
       "    .dataframe tbody tr th {\n",
       "        vertical-align: top;\n",
       "    }\n",
       "\n",
       "    .dataframe thead th {\n",
       "        text-align: right;\n",
       "    }\n",
       "</style>\n",
       "<table border=\"1\" class=\"dataframe\">\n",
       "  <thead>\n",
       "    <tr style=\"text-align: right;\">\n",
       "      <th></th>\n",
       "      <th>rent_freq</th>\n",
       "      <th>0</th>\n",
       "      <th>0</th>\n",
       "      <th>0</th>\n",
       "      <th>0</th>\n",
       "      <th>0</th>\n",
       "      <th>0</th>\n",
       "      <th>0</th>\n",
       "      <th>0</th>\n",
       "      <th>0</th>\n",
       "      <th>0</th>\n",
       "    </tr>\n",
       "  </thead>\n",
       "  <tbody>\n",
       "    <tr>\n",
       "      <th>0</th>\n",
       "      <td>1.0</td>\n",
       "      <td>2.588204</td>\n",
       "      <td>2.587997</td>\n",
       "      <td>2.588112</td>\n",
       "      <td>2.588014</td>\n",
       "      <td>2.587981</td>\n",
       "      <td>2.589519</td>\n",
       "      <td>2.589006</td>\n",
       "      <td>2.588052</td>\n",
       "      <td>2.587986</td>\n",
       "      <td>2.587970</td>\n",
       "    </tr>\n",
       "    <tr>\n",
       "      <th>1</th>\n",
       "      <td>3.0</td>\n",
       "      <td>1.792988</td>\n",
       "      <td>1.793001</td>\n",
       "      <td>1.793009</td>\n",
       "      <td>1.793048</td>\n",
       "      <td>1.793120</td>\n",
       "      <td>1.792720</td>\n",
       "      <td>1.793001</td>\n",
       "      <td>1.793084</td>\n",
       "      <td>1.792987</td>\n",
       "      <td>1.793065</td>\n",
       "    </tr>\n",
       "    <tr>\n",
       "      <th>2</th>\n",
       "      <td>2.0</td>\n",
       "      <td>2.099941</td>\n",
       "      <td>2.100038</td>\n",
       "      <td>2.099905</td>\n",
       "      <td>2.099967</td>\n",
       "      <td>2.099950</td>\n",
       "      <td>2.099608</td>\n",
       "      <td>2.099618</td>\n",
       "      <td>2.099863</td>\n",
       "      <td>2.100067</td>\n",
       "      <td>2.099958</td>\n",
       "    </tr>\n",
       "    <tr>\n",
       "      <th>3</th>\n",
       "      <td>1.0</td>\n",
       "      <td>1.701920</td>\n",
       "      <td>1.701870</td>\n",
       "      <td>1.701875</td>\n",
       "      <td>1.701850</td>\n",
       "      <td>1.701822</td>\n",
       "      <td>1.702355</td>\n",
       "      <td>1.702131</td>\n",
       "      <td>1.701829</td>\n",
       "      <td>1.701877</td>\n",
       "      <td>1.701827</td>\n",
       "    </tr>\n",
       "    <tr>\n",
       "      <th>4</th>\n",
       "      <td>0.0</td>\n",
       "      <td>1.274781</td>\n",
       "      <td>1.274754</td>\n",
       "      <td>1.274779</td>\n",
       "      <td>1.274775</td>\n",
       "      <td>1.274794</td>\n",
       "      <td>1.274890</td>\n",
       "      <td>1.274915</td>\n",
       "      <td>1.274796</td>\n",
       "      <td>1.274746</td>\n",
       "      <td>1.274774</td>\n",
       "    </tr>\n",
       "  </tbody>\n",
       "</table>\n",
       "</div>"
      ],
      "text/plain": [
       "   rent_freq         0         0         0         0         0         0  \\\n",
       "0        1.0  2.588204  2.587997  2.588112  2.588014  2.587981  2.589519   \n",
       "1        3.0  1.792988  1.793001  1.793009  1.793048  1.793120  1.792720   \n",
       "2        2.0  2.099941  2.100038  2.099905  2.099967  2.099950  2.099608   \n",
       "3        1.0  1.701920  1.701870  1.701875  1.701850  1.701822  1.702355   \n",
       "4        0.0  1.274781  1.274754  1.274779  1.274775  1.274794  1.274890   \n",
       "\n",
       "          0         0         0         0  \n",
       "0  2.589006  2.588052  2.587986  2.587970  \n",
       "1  1.793001  1.793084  1.792987  1.793065  \n",
       "2  2.099618  2.099863  2.100067  2.099958  \n",
       "3  1.702131  1.701829  1.701877  1.701827  \n",
       "4  1.274915  1.274796  1.274746  1.274774  "
      ]
     },
     "execution_count": 73,
     "metadata": {},
     "output_type": "execute_result"
    }
   ],
   "source": [
    "lasso_result.head()"
   ]
  },
  {
   "cell_type": "code",
   "execution_count": 76,
   "metadata": {},
   "outputs": [
    {
     "data": {
      "text/plain": [
       "[0.0012372103931348275,\n",
       " 0.0012372103931348275,\n",
       " 0.0012372103931348275,\n",
       " 0.0012372103931348275,\n",
       " 0.0012372103931348275,\n",
       " 0.0012372103931348275,\n",
       " 0.0012372103931348275,\n",
       " 0.0012372103931348275,\n",
       " 0.0012372103931348275,\n",
       " 0.0012372103931348275]"
      ]
     },
     "execution_count": 76,
     "metadata": {},
     "output_type": "execute_result"
    }
   ],
   "source": [
    "lasso_alphas"
   ]
  },
  {
   "cell_type": "code",
   "execution_count": 78,
   "metadata": {},
   "outputs": [
    {
     "data": {
      "text/plain": [
       "[0.00013763519994974846,\n",
       " 0.00013763519994974846,\n",
       " 0.00013763519994974846,\n",
       " 0.00013763519994974846,\n",
       " 0.00013763519994974846,\n",
       " 0.00013763519994974846,\n",
       " 0.00013763519994974846,\n",
       " 0.00013763519994974846,\n",
       " 0.00013763519994974846,\n",
       " 0.00013763519994974846]"
      ]
     },
     "execution_count": 78,
     "metadata": {},
     "output_type": "execute_result"
    }
   ],
   "source": [
    "lasso_log_alphas"
   ]
  },
  {
   "cell_type": "code",
   "execution_count": 79,
   "metadata": {},
   "outputs": [],
   "source": [
    "lasso_result.to_csv(\"lasso_예측값.csv\")\n",
    "lasso_coefs.to_csv(\"lasso_계수.csv\")"
   ]
  },
  {
   "cell_type": "code",
   "execution_count": 80,
   "metadata": {},
   "outputs": [],
   "source": [
    "lasso_log_result.to_csv(\"lasso_log_예측값.csv\")\n",
    "lasso_log_coefs.to_csv(\"lasso_log_계수.csv\")"
   ]
  },
  {
   "cell_type": "code",
   "execution_count": 81,
   "metadata": {},
   "outputs": [],
   "source": [
    "lasso_coef = pd.concat([pd.DataFrame(trainX.columns), pd.DataFrame(lasso_reg.coef_)],axis=1)"
   ]
  },
  {
   "cell_type": "code",
   "execution_count": 82,
   "metadata": {},
   "outputs": [],
   "source": [
    "lasso_coef.columns= ['name', 'num']"
   ]
  },
  {
   "cell_type": "code",
   "execution_count": 83,
   "metadata": {},
   "outputs": [],
   "source": [
    "lasso_coef['absnum'] = abs(lasso_coef['num'])"
   ]
  },
  {
   "cell_type": "code",
   "execution_count": 84,
   "metadata": {},
   "outputs": [
    {
     "data": {
      "text/html": [
       "<div>\n",
       "<style scoped>\n",
       "    .dataframe tbody tr th:only-of-type {\n",
       "        vertical-align: middle;\n",
       "    }\n",
       "\n",
       "    .dataframe tbody tr th {\n",
       "        vertical-align: top;\n",
       "    }\n",
       "\n",
       "    .dataframe thead th {\n",
       "        text-align: right;\n",
       "    }\n",
       "</style>\n",
       "<table border=\"1\" class=\"dataframe\">\n",
       "  <thead>\n",
       "    <tr style=\"text-align: right;\">\n",
       "      <th></th>\n",
       "      <th>name</th>\n",
       "      <th>num</th>\n",
       "      <th>absnum</th>\n",
       "    </tr>\n",
       "  </thead>\n",
       "  <tbody>\n",
       "    <tr>\n",
       "      <th>0</th>\n",
       "      <td>bef_1</td>\n",
       "      <td>0.397933</td>\n",
       "      <td>0.397933</td>\n",
       "    </tr>\n",
       "    <tr>\n",
       "      <th>1</th>\n",
       "      <td>bef_2</td>\n",
       "      <td>0.183053</td>\n",
       "      <td>0.183053</td>\n",
       "    </tr>\n",
       "    <tr>\n",
       "      <th>2</th>\n",
       "      <td>bef_3</td>\n",
       "      <td>0.103269</td>\n",
       "      <td>0.103269</td>\n",
       "    </tr>\n",
       "    <tr>\n",
       "      <th>3</th>\n",
       "      <td>bef_4</td>\n",
       "      <td>0.052607</td>\n",
       "      <td>0.052607</td>\n",
       "    </tr>\n",
       "  </tbody>\n",
       "</table>\n",
       "</div>"
      ],
      "text/plain": [
       "    name       num    absnum\n",
       "0  bef_1  0.397933  0.397933\n",
       "1  bef_2  0.183053  0.183053\n",
       "2  bef_3  0.103269  0.103269\n",
       "3  bef_4  0.052607  0.052607"
      ]
     },
     "execution_count": 84,
     "metadata": {},
     "output_type": "execute_result"
    }
   ],
   "source": [
    "lasso_coef.sort_values(by='absnum', ascending=False)"
   ]
  },
  {
   "cell_type": "code",
   "execution_count": 86,
   "metadata": {},
   "outputs": [
    {
     "data": {
      "text/plain": [
       "1.90271675965363"
      ]
     },
     "execution_count": 86,
     "metadata": {},
     "output_type": "execute_result"
    }
   ],
   "source": [
    "from sklearn.metrics import mean_squared_error\n",
    "from math import sqrt\n",
    "sqrt(mean_squared_error(lasso_reg_testY, testY))"
   ]
  },
  {
   "cell_type": "markdown",
   "metadata": {
    "colab_type": "text",
    "id": "S7hyLQZLDm9G"
   },
   "source": [
    "RIDGE REGRESSION"
   ]
  },
  {
   "cell_type": "code",
   "execution_count": 97,
   "metadata": {
    "collapsed": true
   },
   "outputs": [
    {
     "data": {
      "text/plain": [
       "array([1.23721039e+00, 1.15382655e+00, 1.07606251e+00, 1.00353949e+00,\n",
       "       9.35904291e-01, 8.72827474e-01, 8.14001824e-01, 7.59140825e-01,\n",
       "       7.07977274e-01, 6.60261975e-01, 6.15762528e-01, 5.74262195e-01,\n",
       "       5.35558845e-01, 4.99463971e-01, 4.65801771e-01, 4.34408291e-01,\n",
       "       4.05130626e-01, 3.77826177e-01, 3.52361958e-01, 3.28613941e-01,\n",
       "       3.06466461e-01, 2.85811647e-01, 2.66548899e-01, 2.48584395e-01,\n",
       "       2.31830639e-01, 2.16206030e-01, 2.01634467e-01, 1.88044979e-01,\n",
       "       1.75371377e-01, 1.63551933e-01, 1.52529080e-01, 1.42249130e-01,\n",
       "       1.32662015e-01, 1.23721039e-01, 1.15382655e-01, 1.07606251e-01,\n",
       "       1.00353949e-01, 9.35904291e-02, 8.72827474e-02, 8.14001824e-02,\n",
       "       7.59140825e-02, 7.07977274e-02, 6.60261975e-02, 6.15762528e-02,\n",
       "       5.74262195e-02, 5.35558845e-02, 4.99463971e-02, 4.65801771e-02,\n",
       "       4.34408291e-02, 4.05130626e-02, 3.77826177e-02, 3.52361958e-02,\n",
       "       3.28613941e-02, 3.06466461e-02, 2.85811647e-02, 2.66548899e-02,\n",
       "       2.48584395e-02, 2.31830639e-02, 2.16206030e-02, 2.01634467e-02,\n",
       "       1.88044979e-02, 1.75371377e-02, 1.63551933e-02, 1.52529080e-02,\n",
       "       1.42249130e-02, 1.32662015e-02, 1.23721039e-02, 1.15382655e-02,\n",
       "       1.07606251e-02, 1.00353949e-02, 9.35904291e-03, 8.72827474e-03,\n",
       "       8.14001824e-03, 7.59140825e-03, 7.07977274e-03, 6.60261975e-03,\n",
       "       6.15762528e-03, 5.74262195e-03, 5.35558845e-03, 4.99463971e-03,\n",
       "       4.65801771e-03, 4.34408291e-03, 4.05130626e-03, 3.77826177e-03,\n",
       "       3.52361958e-03, 3.28613941e-03, 3.06466461e-03, 2.85811647e-03,\n",
       "       2.66548899e-03, 2.48584395e-03, 2.31830639e-03, 2.16206030e-03,\n",
       "       2.01634467e-03, 1.88044979e-03, 1.75371377e-03, 1.63551933e-03,\n",
       "       1.52529080e-03, 1.42249130e-03, 1.32662015e-03, 1.23721039e-03])"
      ]
     },
     "execution_count": 97,
     "metadata": {},
     "output_type": "execute_result"
    }
   ],
   "source": [
    "lasso_reg.alphas_"
   ]
  },
  {
   "cell_type": "code",
   "execution_count": 25,
   "metadata": {},
   "outputs": [
    {
     "ename": "NameError",
     "evalue": "name 'ridge_reg' is not defined",
     "output_type": "error",
     "traceback": [
      "\u001b[0;31m---------------------------------------------------------------------------\u001b[0m",
      "\u001b[0;31mNameError\u001b[0m                                 Traceback (most recent call last)",
      "\u001b[0;32m<ipython-input-25-9b61bf4baa18>\u001b[0m in \u001b[0;36m<module>\u001b[0;34m\u001b[0m\n\u001b[1;32m      1\u001b[0m \u001b[0mridge_reg_cv\u001b[0m \u001b[0;34m=\u001b[0m \u001b[0mRidgeCV\u001b[0m\u001b[0;34m(\u001b[0m\u001b[0mcv\u001b[0m\u001b[0;34m=\u001b[0m\u001b[0;36m10\u001b[0m\u001b[0;34m,\u001b[0m \u001b[0malphas\u001b[0m\u001b[0;34m=\u001b[0m\u001b[0mlasso_log_reg\u001b[0m\u001b[0;34m.\u001b[0m\u001b[0malphas_\u001b[0m\u001b[0;34m)\u001b[0m\u001b[0;34m\u001b[0m\u001b[0m\n\u001b[1;32m      2\u001b[0m \u001b[0mridge_reg_cv\u001b[0m\u001b[0;34m.\u001b[0m\u001b[0mfit\u001b[0m\u001b[0;34m(\u001b[0m\u001b[0mtrainX\u001b[0m\u001b[0;34m,\u001b[0m \u001b[0mtrainY\u001b[0m\u001b[0;34m)\u001b[0m\u001b[0;34m\u001b[0m\u001b[0m\n\u001b[0;32m----> 3\u001b[0;31m \u001b[0mridge_reg_cv_testY\u001b[0m \u001b[0;34m=\u001b[0m \u001b[0mridge_reg\u001b[0m\u001b[0;34m.\u001b[0m\u001b[0mpredict\u001b[0m\u001b[0;34m(\u001b[0m\u001b[0mtestX\u001b[0m\u001b[0;34m)\u001b[0m\u001b[0;34m\u001b[0m\u001b[0m\n\u001b[0m\u001b[1;32m      4\u001b[0m \u001b[0msqrt\u001b[0m\u001b[0;34m(\u001b[0m\u001b[0mmean_squared_error\u001b[0m\u001b[0;34m(\u001b[0m\u001b[0mridge_reg_cv_testY\u001b[0m\u001b[0;34m,\u001b[0m \u001b[0mtestY\u001b[0m\u001b[0;34m)\u001b[0m\u001b[0;34m)\u001b[0m\u001b[0;34m\u001b[0m\u001b[0m\n",
      "\u001b[0;31mNameError\u001b[0m: name 'ridge_reg' is not defined"
     ]
    }
   ],
   "source": [
    "ridge_reg_cv = RidgeCV(cv=10, alphas=lasso_log_reg.alphas_)\n",
    "ridge_reg_cv.fit(trainX, trainY)\n",
    "ridge_reg_cv_testY = ridge_reg.predict(testX)\n",
    "sqrt(mean_squared_error(ridge_reg_cv_testY, testY))"
   ]
  },
  {
   "cell_type": "code",
   "execution_count": 22,
   "metadata": {},
   "outputs": [
    {
     "ename": "NameError",
     "evalue": "name 'ridge_reg' is not defined",
     "output_type": "error",
     "traceback": [
      "\u001b[0;31m---------------------------------------------------------------------------\u001b[0m",
      "\u001b[0;31mNameError\u001b[0m                                 Traceback (most recent call last)",
      "\u001b[0;32m<ipython-input-22-0c970f477c8a>\u001b[0m in \u001b[0;36m<module>\u001b[0;34m\u001b[0m\n\u001b[0;32m----> 1\u001b[0;31m \u001b[0mridge_reg\u001b[0m\u001b[0;34m.\u001b[0m\u001b[0malpha\u001b[0m\u001b[0;34m\u001b[0m\u001b[0m\n\u001b[0m",
      "\u001b[0;31mNameError\u001b[0m: name 'ridge_reg' is not defined"
     ]
    }
   ],
   "source": [
    "ridge_reg_cv.alpha"
   ]
  },
  {
   "cell_type": "code",
   "execution_count": 92,
   "metadata": {},
   "outputs": [
    {
     "data": {
      "text/plain": [
       "1.7787441782988394"
      ]
     },
     "execution_count": 92,
     "metadata": {},
     "output_type": "execute_result"
    }
   ],
   "source": [
    "ridge_reg_cv = RidgeCV(cv=10)\n",
    "ridge_reg_cv.fit(trainX, trainY)\n",
    "ridge_reg_cv_testY = ridge_reg_cv.predict(testX)\n",
    "sqrt(mean_squared_error(ridge_reg_cv_testY, testY))"
   ]
  },
  {
   "cell_type": "code",
   "execution_count": 105,
   "metadata": {},
   "outputs": [],
   "source": [
    "ridge_result = pd.DataFrame(testY)\n",
    "ridge_coefs = pd.DataFrame()\n",
    "for i in range(0,10):\n",
    "    ridge_reg = Ridge(alpha=ridge_reg_cv.alpha, random_state=i, solver='sag')\n",
    "    ridge_reg.fit(trainX, trainY)\n",
    "    ridge_reg_testY = ridge_reg.predict(testX)\n",
    "    ridge_result = pd.concat([ridge_result, pd.DataFrame(ridge_reg_testY)], axis=1)\n",
    "    ridge_coefs = pd.concat([ridge_coefs, pd.DataFrame(ridge_reg.coef_)], axis=1)"
   ]
  },
  {
   "cell_type": "markdown",
   "metadata": {},
   "source": [
    "RIDGE log 변환"
   ]
  },
  {
   "cell_type": "code",
   "execution_count": 15,
   "metadata": {},
   "outputs": [
    {
     "data": {
      "text/plain": [
       "1.9021919441801662"
      ]
     },
     "execution_count": 15,
     "metadata": {},
     "output_type": "execute_result"
    }
   ],
   "source": [
    "ridge_log_reg_cv = RidgeCV(cv=10, alphas=lasso_log_reg.alphas_)\n",
    "ridge_log_reg_cv.fit(np.log1p(trainX), np.log1p(trainY))\n",
    "ridge_log_reg_cv_testY = np.expm1(ridge_log_reg_cv.predict(np.log1p(testX)))\n",
    "sqrt(mean_squared_error(ridge_log_reg_testY, testY))"
   ]
  },
  {
   "cell_type": "code",
   "execution_count": 21,
   "metadata": {},
   "outputs": [
    {
     "ename": "NameError",
     "evalue": "name 'ridge_reg_cv' is not defined",
     "output_type": "error",
     "traceback": [
      "\u001b[0;31m---------------------------------------------------------------------------\u001b[0m",
      "\u001b[0;31mNameError\u001b[0m                                 Traceback (most recent call last)",
      "\u001b[0;32m<ipython-input-21-a06722d73cb5>\u001b[0m in \u001b[0;36m<module>\u001b[0;34m\u001b[0m\n\u001b[0;32m----> 1\u001b[0;31m \u001b[0mridge_reg_cv\u001b[0m\u001b[0;34m.\u001b[0m\u001b[0malpha_\u001b[0m\u001b[0;34m\u001b[0m\u001b[0m\n\u001b[0m",
      "\u001b[0;31mNameError\u001b[0m: name 'ridge_reg_cv' is not defined"
     ]
    }
   ],
   "source": [
    "ridge_reg_cv.alpha_"
   ]
  },
  {
   "cell_type": "code",
   "execution_count": 17,
   "metadata": {},
   "outputs": [],
   "source": [
    "ridge_log_result = pd.DataFrame(testY)\n",
    "ridge_log_coefs = pd.DataFrame()\n",
    "for i in range(0,10):\n",
    "    ridge_log_reg = Ridge(alpha=ridge_log_reg_cv.alpha_, random_state=i, solver='sag')\n",
    "    ridge_log_reg.fit(np.log1p(trainX), np.log1p(trainY))\n",
    "    ridge_log_reg_testY = np.expm1(ridge_log_reg.predict(np.log1p(testX)))\n",
    "    ridge_log_result = pd.concat([ridge_log_result, pd.DataFrame(ridge_log_reg_testY)], axis=1)\n",
    "    ridge_log_coefs = pd.concat([ridge_log_coefs, pd.DataFrame(ridge_log_reg.coef_)], axis=1)"
   ]
  },
  {
   "cell_type": "code",
   "execution_count": 113,
   "metadata": {},
   "outputs": [
    {
     "data": {
      "text/html": [
       "<div>\n",
       "<style scoped>\n",
       "    .dataframe tbody tr th:only-of-type {\n",
       "        vertical-align: middle;\n",
       "    }\n",
       "\n",
       "    .dataframe tbody tr th {\n",
       "        vertical-align: top;\n",
       "    }\n",
       "\n",
       "    .dataframe thead th {\n",
       "        text-align: right;\n",
       "    }\n",
       "</style>\n",
       "<table border=\"1\" class=\"dataframe\">\n",
       "  <thead>\n",
       "    <tr style=\"text-align: right;\">\n",
       "      <th></th>\n",
       "      <th>rent_freq</th>\n",
       "      <th>0</th>\n",
       "      <th>0</th>\n",
       "      <th>0</th>\n",
       "      <th>0</th>\n",
       "      <th>0</th>\n",
       "      <th>0</th>\n",
       "      <th>0</th>\n",
       "      <th>0</th>\n",
       "      <th>0</th>\n",
       "      <th>0</th>\n",
       "    </tr>\n",
       "  </thead>\n",
       "  <tbody>\n",
       "    <tr>\n",
       "      <th>0</th>\n",
       "      <td>1.0</td>\n",
       "      <td>2.590737</td>\n",
       "      <td>2.589924</td>\n",
       "      <td>2.591320</td>\n",
       "      <td>2.588829</td>\n",
       "      <td>2.589218</td>\n",
       "      <td>2.591989</td>\n",
       "      <td>2.590519</td>\n",
       "      <td>2.591005</td>\n",
       "      <td>2.591054</td>\n",
       "      <td>2.587085</td>\n",
       "    </tr>\n",
       "    <tr>\n",
       "      <th>1</th>\n",
       "      <td>3.0</td>\n",
       "      <td>1.796397</td>\n",
       "      <td>1.795195</td>\n",
       "      <td>1.795406</td>\n",
       "      <td>1.794196</td>\n",
       "      <td>1.794108</td>\n",
       "      <td>1.797239</td>\n",
       "      <td>1.795954</td>\n",
       "      <td>1.796057</td>\n",
       "      <td>1.795439</td>\n",
       "      <td>1.794096</td>\n",
       "    </tr>\n",
       "    <tr>\n",
       "      <th>2</th>\n",
       "      <td>2.0</td>\n",
       "      <td>2.102431</td>\n",
       "      <td>2.102688</td>\n",
       "      <td>2.102755</td>\n",
       "      <td>2.101302</td>\n",
       "      <td>2.102203</td>\n",
       "      <td>2.102831</td>\n",
       "      <td>2.104102</td>\n",
       "      <td>2.101767</td>\n",
       "      <td>2.102561</td>\n",
       "      <td>2.100774</td>\n",
       "    </tr>\n",
       "    <tr>\n",
       "      <th>3</th>\n",
       "      <td>1.0</td>\n",
       "      <td>1.703182</td>\n",
       "      <td>1.703099</td>\n",
       "      <td>1.703601</td>\n",
       "      <td>1.702410</td>\n",
       "      <td>1.702714</td>\n",
       "      <td>1.703652</td>\n",
       "      <td>1.703604</td>\n",
       "      <td>1.703127</td>\n",
       "      <td>1.703534</td>\n",
       "      <td>1.701495</td>\n",
       "    </tr>\n",
       "    <tr>\n",
       "      <th>4</th>\n",
       "      <td>0.0</td>\n",
       "      <td>1.276224</td>\n",
       "      <td>1.275685</td>\n",
       "      <td>1.275940</td>\n",
       "      <td>1.275240</td>\n",
       "      <td>1.275146</td>\n",
       "      <td>1.276667</td>\n",
       "      <td>1.275950</td>\n",
       "      <td>1.276167</td>\n",
       "      <td>1.275990</td>\n",
       "      <td>1.274893</td>\n",
       "    </tr>\n",
       "  </tbody>\n",
       "</table>\n",
       "</div>"
      ],
      "text/plain": [
       "   rent_freq         0         0         0         0         0         0  \\\n",
       "0        1.0  2.590737  2.589924  2.591320  2.588829  2.589218  2.591989   \n",
       "1        3.0  1.796397  1.795195  1.795406  1.794196  1.794108  1.797239   \n",
       "2        2.0  2.102431  2.102688  2.102755  2.101302  2.102203  2.102831   \n",
       "3        1.0  1.703182  1.703099  1.703601  1.702410  1.702714  1.703652   \n",
       "4        0.0  1.276224  1.275685  1.275940  1.275240  1.275146  1.276667   \n",
       "\n",
       "          0         0         0         0  \n",
       "0  2.590519  2.591005  2.591054  2.587085  \n",
       "1  1.795954  1.796057  1.795439  1.794096  \n",
       "2  2.104102  2.101767  2.102561  2.100774  \n",
       "3  1.703604  1.703127  1.703534  1.701495  \n",
       "4  1.275950  1.276167  1.275990  1.274893  "
      ]
     },
     "execution_count": 113,
     "metadata": {},
     "output_type": "execute_result"
    }
   ],
   "source": [
    "ridge_result.head()"
   ]
  },
  {
   "cell_type": "code",
   "execution_count": 116,
   "metadata": {},
   "outputs": [
    {
     "data": {
      "text/html": [
       "<div>\n",
       "<style scoped>\n",
       "    .dataframe tbody tr th:only-of-type {\n",
       "        vertical-align: middle;\n",
       "    }\n",
       "\n",
       "    .dataframe tbody tr th {\n",
       "        vertical-align: top;\n",
       "    }\n",
       "\n",
       "    .dataframe thead th {\n",
       "        text-align: right;\n",
       "    }\n",
       "</style>\n",
       "<table border=\"1\" class=\"dataframe\">\n",
       "  <thead>\n",
       "    <tr style=\"text-align: right;\">\n",
       "      <th></th>\n",
       "      <th>rent_freq</th>\n",
       "      <th>0</th>\n",
       "      <th>0</th>\n",
       "      <th>0</th>\n",
       "      <th>0</th>\n",
       "      <th>0</th>\n",
       "      <th>0</th>\n",
       "      <th>0</th>\n",
       "      <th>0</th>\n",
       "      <th>0</th>\n",
       "      <th>0</th>\n",
       "    </tr>\n",
       "  </thead>\n",
       "  <tbody>\n",
       "    <tr>\n",
       "      <th>0</th>\n",
       "      <td>1.0</td>\n",
       "      <td>1.906520</td>\n",
       "      <td>1.905998</td>\n",
       "      <td>1.907297</td>\n",
       "      <td>1.905952</td>\n",
       "      <td>1.906642</td>\n",
       "      <td>1.907229</td>\n",
       "      <td>1.908140</td>\n",
       "      <td>1.908107</td>\n",
       "      <td>1.906239</td>\n",
       "      <td>1.906470</td>\n",
       "    </tr>\n",
       "    <tr>\n",
       "      <th>1</th>\n",
       "      <td>3.0</td>\n",
       "      <td>1.422510</td>\n",
       "      <td>1.422291</td>\n",
       "      <td>1.423162</td>\n",
       "      <td>1.423618</td>\n",
       "      <td>1.422726</td>\n",
       "      <td>1.422592</td>\n",
       "      <td>1.423504</td>\n",
       "      <td>1.424119</td>\n",
       "      <td>1.422325</td>\n",
       "      <td>1.422736</td>\n",
       "    </tr>\n",
       "    <tr>\n",
       "      <th>2</th>\n",
       "      <td>2.0</td>\n",
       "      <td>1.680045</td>\n",
       "      <td>1.678854</td>\n",
       "      <td>1.679776</td>\n",
       "      <td>1.679946</td>\n",
       "      <td>1.679791</td>\n",
       "      <td>1.679376</td>\n",
       "      <td>1.680974</td>\n",
       "      <td>1.680878</td>\n",
       "      <td>1.679464</td>\n",
       "      <td>1.679999</td>\n",
       "    </tr>\n",
       "    <tr>\n",
       "      <th>3</th>\n",
       "      <td>1.0</td>\n",
       "      <td>1.427333</td>\n",
       "      <td>1.426608</td>\n",
       "      <td>1.427468</td>\n",
       "      <td>1.426511</td>\n",
       "      <td>1.427124</td>\n",
       "      <td>1.427435</td>\n",
       "      <td>1.428373</td>\n",
       "      <td>1.427981</td>\n",
       "      <td>1.426962</td>\n",
       "      <td>1.427248</td>\n",
       "    </tr>\n",
       "    <tr>\n",
       "      <th>4</th>\n",
       "      <td>0.0</td>\n",
       "      <td>1.099494</td>\n",
       "      <td>1.099370</td>\n",
       "      <td>1.099878</td>\n",
       "      <td>1.099869</td>\n",
       "      <td>1.099680</td>\n",
       "      <td>1.099682</td>\n",
       "      <td>1.100082</td>\n",
       "      <td>1.100402</td>\n",
       "      <td>1.099420</td>\n",
       "      <td>1.099544</td>\n",
       "    </tr>\n",
       "  </tbody>\n",
       "</table>\n",
       "</div>"
      ],
      "text/plain": [
       "   rent_freq         0         0         0         0         0         0  \\\n",
       "0        1.0  1.906520  1.905998  1.907297  1.905952  1.906642  1.907229   \n",
       "1        3.0  1.422510  1.422291  1.423162  1.423618  1.422726  1.422592   \n",
       "2        2.0  1.680045  1.678854  1.679776  1.679946  1.679791  1.679376   \n",
       "3        1.0  1.427333  1.426608  1.427468  1.426511  1.427124  1.427435   \n",
       "4        0.0  1.099494  1.099370  1.099878  1.099869  1.099680  1.099682   \n",
       "\n",
       "          0         0         0         0  \n",
       "0  1.908140  1.908107  1.906239  1.906470  \n",
       "1  1.423504  1.424119  1.422325  1.422736  \n",
       "2  1.680974  1.680878  1.679464  1.679999  \n",
       "3  1.428373  1.427981  1.426962  1.427248  \n",
       "4  1.100082  1.100402  1.099420  1.099544  "
      ]
     },
     "execution_count": 116,
     "metadata": {},
     "output_type": "execute_result"
    }
   ],
   "source": [
    "ridge_log_result.head()"
   ]
  },
  {
   "cell_type": "code",
   "execution_count": 109,
   "metadata": {},
   "outputs": [],
   "source": [
    "ridge_result.to_csv(\"ridge_예측값.csv\")\n",
    "ridge_coefs.to_csv(\"ridge_계수.csv\")"
   ]
  },
  {
   "cell_type": "code",
   "execution_count": 18,
   "metadata": {},
   "outputs": [],
   "source": [
    "ridge_log_result.to_csv(\"ridge_log_예측값.csv\")\n",
    "ridge_log_coefs.to_csv(\"ridge_log_계수.csv\")"
   ]
  },
  {
   "cell_type": "code",
   "execution_count": 112,
   "metadata": {},
   "outputs": [
    {
     "data": {
      "text/plain": [
       "1.7787727610627506"
      ]
     },
     "execution_count": 112,
     "metadata": {},
     "output_type": "execute_result"
    }
   ],
   "source": [
    "sqrt(mean_squared_error(ridge_log_reg_testY, testY))"
   ]
  },
  {
   "cell_type": "code",
   "execution_count": 84,
   "metadata": {},
   "outputs": [
    {
     "data": {
      "text/plain": [
       "Ridge(alpha=0.1, copy_X=True, fit_intercept=True, max_iter=None,\n",
       "   normalize=False, random_state=None, solver='auto', tol=0.001)"
      ]
     },
     "execution_count": 84,
     "metadata": {},
     "output_type": "execute_result"
    }
   ],
   "source": [
    "ridge_reg.fit(trainX, trainY)"
   ]
  },
  {
   "cell_type": "code",
   "execution_count": 85,
   "metadata": {},
   "outputs": [],
   "source": [
    "ridge_reg_testY = ridge_reg.predict(testX)"
   ]
  },
  {
   "cell_type": "code",
   "execution_count": null,
   "metadata": {},
   "outputs": [],
   "source": [
    "data_colname = pd.DataFrame(trainX.columns)\n",
    "ridge_coef = pd.DataFrame(ridge_reg.coef_)"
   ]
  },
  {
   "cell_type": "code",
   "execution_count": null,
   "metadata": {},
   "outputs": [],
   "source": [
    "ridge_coef = pd.concat([data_colname, ridge_coef],axis=1)\n",
    "ridge_coef.columns= ['name', 'num']\n",
    "ridge_coef['absnum'] = abs(lasso_coef['num'])\n",
    "\n",
    "lasso_coef.sort_values(by='absnum', ascending=False)"
   ]
  },
  {
   "cell_type": "code",
   "execution_count": 86,
   "metadata": {
    "collapsed": true
   },
   "outputs": [
    {
     "data": {
      "text/plain": [
       "array([ 5.74753265e-01, -5.03981674e-02,  2.17208408e+00,  6.46609268e+00,\n",
       "       -1.04978498e-03,  3.90879219e-02, -8.06181009e-02, -1.84242826e+01,\n",
       "        2.01355805e-01, -6.37591391e-03,  9.54514092e-02, -5.95704267e-03,\n",
       "       -1.90731801e-01, -6.22410125e-02, -3.08123845e-01,  8.64549313e-02,\n",
       "        6.16359211e-02, -1.48484586e-01,  7.70424311e-01, -1.58667089e-01,\n",
       "        5.23508550e-03, -3.06673392e-01,  1.34718281e-01, -3.18316005e+01,\n",
       "        0.00000000e+00, -5.84167715e-02, -2.02910102e-01,  3.90671438e-02,\n",
       "        1.81342541e-01,  8.20669593e-03,  1.12983287e-01,  9.69087518e-03,\n",
       "        2.57386635e-01, -5.77054581e-01, -1.25380388e-02,  3.38758447e-02,\n",
       "       -7.23935757e-02, -2.41842545e-01, -3.18160516e+01, -8.78157517e-02,\n",
       "       -2.04267473e-02, -5.55053780e-01, -3.18463150e+01, -8.60583589e-01,\n",
       "       -4.39009089e-01, -2.08200312e-01,  0.00000000e+00, -1.46160287e-02,\n",
       "       -3.18460724e+01, -3.17902070e+01, -9.34023724e+00, -9.52556904e+00,\n",
       "       -9.72017709e+00, -9.78576178e+00, -9.73211033e+00, -9.72291844e+00,\n",
       "       -9.62695670e+00, -9.49834980e+00, -9.25388110e+00, -8.90678782e+00,\n",
       "       -8.15492517e+00, -8.36701980e+00, -9.72105328e+00, -8.56074081e+00,\n",
       "       -8.48012504e+00, -8.58980746e+00, -9.09244971e+00, -9.85668236e+00,\n",
       "       -9.92114758e+00, -9.89507576e+00, -9.75389898e+00, -9.26398104e+00,\n",
       "       -8.63842317e+00, -9.35239266e+00, -3.18119946e+01, -3.18182386e+01])"
      ]
     },
     "execution_count": 86,
     "metadata": {},
     "output_type": "execute_result"
    }
   ],
   "source": [
    "ridge_reg.coef_"
   ]
  },
  {
   "cell_type": "code",
   "execution_count": null,
   "metadata": {},
   "outputs": [],
   "source": []
  },
  {
   "cell_type": "code",
   "execution_count": null,
   "metadata": {},
   "outputs": [],
   "source": []
  },
  {
   "cell_type": "markdown",
   "metadata": {
    "colab_type": "text",
    "id": "fXD1oB2-D3f2"
   },
   "source": [
    "ARIMA"
   ]
  },
  {
   "cell_type": "markdown",
   "metadata": {
    "colab_type": "text",
    "id": "bxnbFAxWHpRJ"
   },
   "source": [
    "https://byeongkijeong.github.io/ARIMA-with-Python/"
   ]
  },
  {
   "cell_type": "code",
   "execution_count": 0,
   "metadata": {
    "colab": {},
    "colab_type": "code",
    "id": "bT6Sbg6bDXlp"
   },
   "outputs": [],
   "source": [
    "import matplotlib.pyplot as plt\n",
    "from statsmodels.graphics.tsaplots import plot_acf, plot_pacf\n",
    "\n",
    "plot_acf() # 자기상관함수 - 구간 밖에 있는 점 개수 = AR 계수\n",
    "plot_pacf(series) # 부분자기함수 - 구간 밖에 있는 점 개수 = MA 계수\n",
    "plt.show()"
   ]
  },
  {
   "cell_type": "code",
   "execution_count": 0,
   "metadata": {
    "colab": {},
    "colab_type": "code",
    "id": "DUJutfQFD5lc"
   },
   "outputs": [],
   "source": [
    "import matplotlib.pyplot as plt\n",
    "import pandas as pd\n",
    "from statsmodels.graphics.tsaplots import plot_acf, plot_pacf\n",
    "\n",
    "diff_1=series.diff(periods=1).iloc[1:] # 만약 stationary time-series data가 아니라면 차분(diff)해주기\n",
    "diff_1.plot()\n",
    "plot_acf(diff_1)\n",
    "plot_pacf(diff_1)\n",
    "plt.show()"
   ]
  },
  {
   "cell_type": "code",
   "execution_count": 0,
   "metadata": {
    "colab": {},
    "colab_type": "code",
    "id": "16_bAMdGHSGw"
   },
   "outputs": [],
   "source": [
    "from statsmodels.tsa.arima_model import ARIMA\n",
    "\n",
    "model = ARIMA(series, order=(0,1,1)) # 위의 두 코드 보고 order 설정 (p,d,q) : p=AR, d=diff, q=MA\n",
    "model_fit = model.fit(trend='c',full_output=True, disp=1)\n",
    "print(model_fit.summary())"
   ]
  },
  {
   "cell_type": "code",
   "execution_count": 0,
   "metadata": {
    "colab": {},
    "colab_type": "code",
    "id": "zXxuojUbHeG2"
   },
   "outputs": [],
   "source": [
    "from statsmodels.tsa.arima_model import ARIMA\n",
    "\n",
    "model = ARIMA(series, order=(0,1,1)) # P-value가 0.05 수준에서 유효하지 않으면 조절해야 함\n",
    "model_fit = model.fit(trend='nc',full_output=True, disp=1) # 위에서 모형의 constant가 유효하지 않다면 non-constant로 바꿔줘야 함\n",
    "print(model_fit.summary())"
   ]
  },
  {
   "cell_type": "code",
   "execution_count": 0,
   "metadata": {
    "colab": {},
    "colab_type": "code",
    "id": "kUWPnRwrHfyo"
   },
   "outputs": [],
   "source": [
    "model_fit.plot_predict()\n",
    "fore = model_fit.forecast(steps=1)\n",
    "print(fore)"
   ]
  },
  {
   "cell_type": "markdown",
   "metadata": {
    "colab_type": "text",
    "id": "DdnpmjAEFrax"
   },
   "source": [
    "light gbm"
   ]
  },
  {
   "cell_type": "code",
   "execution_count": 0,
   "metadata": {
    "colab": {
     "base_uri": "https://localhost:8080/",
     "height": 325
    },
    "colab_type": "code",
    "executionInfo": {
     "elapsed": 780,
     "status": "error",
     "timestamp": 1543926026532,
     "user": {
      "displayName": "heeseon cheon",
      "photoUrl": "",
      "userId": "08768795282513849486"
     },
     "user_tz": -540
    },
    "id": "fKp7K90YFq-o",
    "outputId": "153bd56d-3f92-4658-f91f-74b004977e1d"
   },
   "outputs": [
    {
     "ename": "ModuleNotFoundError",
     "evalue": "ignored",
     "output_type": "error",
     "traceback": [
      "\u001b[0;31m---------------------------------------------------------------------------\u001b[0m",
      "\u001b[0;31mModuleNotFoundError\u001b[0m                       Traceback (most recent call last)",
      "\u001b[0;32m<ipython-input-3-b18b3f8a6dc8>\u001b[0m in \u001b[0;36m<module>\u001b[0;34m()\u001b[0m\n\u001b[0;32m----> 1\u001b[0;31m \u001b[0;32mimport\u001b[0m \u001b[0mlightgbm\u001b[0m\u001b[0;34m\u001b[0m\u001b[0;34m\u001b[0m\u001b[0m\n\u001b[0m",
      "\u001b[0;31mModuleNotFoundError\u001b[0m: No module named 'lightgbm'",
      "",
      "\u001b[0;31m---------------------------------------------------------------------------\u001b[0;32m\nNOTE: If your import is failing due to a missing package, you can\nmanually install dependencies using either !pip or !apt.\n\nTo view examples of installing some common dependencies, click the\n\"Open Examples\" button below.\n\u001b[0;31m---------------------------------------------------------------------------\u001b[0m\n"
     ]
    }
   ],
   "source": [
    "import lightgbm"
   ]
  },
  {
   "cell_type": "code",
   "execution_count": 0,
   "metadata": {
    "colab": {},
    "colab_type": "code",
    "id": "RSQZeFLJFxYQ"
   },
   "outputs": [],
   "source": [
    "train = pd.read_csv('../input/train.csv')\n",
    "\n",
    "# get the labels\n",
    "y = train.target.values\n",
    "train.drop(['id', 'target'], inplace=True, axis=1)\n",
    "\n",
    "x = train.values\n",
    "\n",
    "# Create the LightGBM data containers\n",
    "\n",
    "categorical_features = [c for c, col in enumerate(train.columns) if 'cat' in col]\n",
    "train_data = lightgbm.Dataset(x, label=y, categorical_feature=categorical_features)\n",
    "test_data = lightgbm.Dataset(x_test, label=y_test)\n",
    "\n",
    "parameters = {\n",
    "    'application': 'binary',\n",
    "    'objective': 'binary',\n",
    "    'metric': 'auc',\n",
    "    'is_unbalance': 'true',\n",
    "    'boosting': 'gbdt',\n",
    "    'num_leaves': 31,\n",
    "    'feature_fraction': 0.5,\n",
    "    'bagging_fraction': 0.5,\n",
    "    'bagging_freq': 20,\n",
    "    'learning_rate': 0.05,\n",
    "    'verbose': 0\n",
    "}\n",
    "\n",
    "model = lightgbm.train(parameters,\n",
    "                       train_data,\n",
    "                       valid_sets=test_data,\n",
    "                       num_boost_round=5000,\n",
    "                       early_stopping_rounds=100)\n",
    "\n",
    "submission = pd.read_csv('../input/test.csv')\n",
    "ids = submission['id'].values\n",
    "submission.drop('id', inplace=True, axis=1)\n",
    "\n",
    "x = submission.values\n",
    "y = model.predict(x)\n",
    "\n",
    "output = pd.DataFrame({'id': ids, 'target': y})\n",
    "output.to_csv(\"submission.csv\", index=False)"
   ]
  },
  {
   "cell_type": "markdown",
   "metadata": {
    "colab_type": "text",
    "id": "8XuU16gHDpdu"
   },
   "source": [
    "** RANDOM FOREST"
   ]
  },
  {
   "cell_type": "code",
   "execution_count": 0,
   "metadata": {
    "colab": {},
    "colab_type": "code",
    "id": "4KmScGC2DXaI"
   },
   "outputs": [],
   "source": [
    "from sklearn.ensemble import RandomForestClassifier\n",
    "rf = RandomForestClassifier(n_estimators=100, oob_score=True, random_state=123456)\n",
    "rf.fit(trainX, trainY)\n",
    "rf_testY = rf.predict(testX)\n",
    "rf_testY"
   ]
  }
 ],
 "metadata": {
  "colab": {
   "collapsed_sections": [],
   "name": "LASSO+RIDGE+ARIMA+LIGHTGBM.ipynb",
   "provenance": [],
   "version": "0.3.2"
  },
  "kernelspec": {
   "display_name": "Python 3",
   "language": "python",
   "name": "python3"
  },
  "language_info": {
   "codemirror_mode": {
    "name": "ipython",
    "version": 3
   },
   "file_extension": ".py",
   "mimetype": "text/x-python",
   "name": "python",
   "nbconvert_exporter": "python",
   "pygments_lexer": "ipython3",
   "version": "3.5.2"
  }
 },
 "nbformat": 4,
 "nbformat_minor": 1
}
